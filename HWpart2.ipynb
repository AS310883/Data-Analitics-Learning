{
 "cells": [
  {
   "cell_type": "code",
   "execution_count": 8,
   "id": "e005bf51-4e37-4a01-8657-024407bdae1f",
   "metadata": {},
   "outputs": [
    {
     "name": "stdout",
     "output_type": "stream",
     "text": [
      "   Salary NEWCOLUMNSalary  SECONDnewcolumn\n",
      "0  145000     145000 руб.           145000\n",
      "1  152000     152000 руб.           152000\n",
      "2  161000     161000 руб.           161000\n",
      "Salary              int64\n",
      "NEWCOLUMNSalary    object\n",
      "SECONDnewcolumn     int32\n",
      "dtype: object\n"
     ]
    }
   ],
   "source": [
    "# сделайте DataFrame с колонкой \"Salary\" со значениями [145000, 152000, 161000].\n",
    "# 1) Преобразуйте их в строки вида \"45000 руб.\" и сохраните в новой колонке.\n",
    "# 2) Из полученных строк извлеките обратно числа и приведите их к типу int во второй новой колонке.\n",
    "import pandas as pd\n",
    "df=pd.DataFrame({\n",
    "    \"Salary\":[145000, 152000, 161000]\n",
    "    })\n",
    "df[\"NEWCOLUMNSalary\"]=df[\"Salary\"].astype(str)+\" руб.\"\n",
    "df[\"SECONDnewcolumn\"]=df[\"NEWCOLUMNSalary\"].str.replace(\" руб.\", \"\", regex=False)\n",
    "df[\"SECONDnewcolumn\"]=df[\"SECONDnewcolumn\"].astype(int)\n",
    "print(df)\n",
    "print(df.dtypes)\n",
    "\n",
    "# используйте .astype(str) + конкатенацию; для извлечения - .str.replace(\" руб.\", \"\", regex=False) + .astype(int)\n",
    "#            или .str.extract(r'(\\d+)') + .astype(int)."
   ]
  },
  {
   "cell_type": "code",
   "execution_count": 10,
   "id": "69916d33-b91b-48c8-a7cf-b1a72bcb331f",
   "metadata": {},
   "outputs": [
    {
     "name": "stdout",
     "output_type": "stream",
     "text": [
      "               Salary\n",
      "0    https://site.org\n",
      "1  http://example.com\n",
      "2    https://docs.org\n",
      "Filtered_df              Salary\n",
      "0  https://site.org\n",
      "2  https://docs.org\n"
     ]
    }
   ],
   "source": [
    "# Постройте DataFrame с колонкой \"URL\" (например: [\"https://site.org\", \"http://example.com\", \"https://docs.org\"]).\n",
    "# Отфильтруйте строки, где адрес оканчивается на \".org\".\n",
    "import pandas as pd\n",
    "df=pd.DataFrame({\n",
    "    \"Salary\":[\"https://site.org\", \"http://example.com\", \"https://docs.org\"]\n",
    "    })\n",
    "print(df)\n",
    "df_filt= df[df['Salary'].str.contains(r'\\.org$', regex=True)]\n",
    "print(\"Filtered_df\", df_filt)\n",
    "# примените булеву маску через .str.contains(r'\\.org$', regex=True) и индексацию df[mask]."
   ]
  },
  {
   "cell_type": "code",
   "execution_count": 4,
   "id": "ebff1d28-3df3-4e2d-984e-da3753cc64b1",
   "metadata": {},
   "outputs": [
    {
     "name": "stdout",
     "output_type": "stream",
     "text": [
      "       Record user score\n",
      "0     id:=105  NaN   NaN\n",
      "1  user=Alice  NaN   NaN\n",
      "2    score=92  NaN   NaN\n",
      "Record    object\n",
      "user      object\n",
      "score     object\n",
      "dtype: object\n"
     ]
    }
   ],
   "source": [
    "# Постройте DataFrame с колонкой \"Record\" со строками формата \"id=105; user=Alice; score=92\".\n",
    "# Извлеките user и score в отдельные колонки (user — строка, score — число).\n",
    "import pandas as pd\n",
    "df=pd.DataFrame({\n",
    "    \"Record\":['id:=105',\n",
    "            'user=Alice',\n",
    "            'score=92']\n",
    "    })\n",
    "df[[\"user\", \"score\"]] = df[\"Record\"].str.extract(r'user: (.+), score: (\\d+)')\n",
    "\n",
    "\n",
    "print(df)\n",
    "print(df.dtypes)\n",
    "# используйте .str.extract(r'user=([^;]+);\\s*score=(\\d+)'), затем для score — .astype(int)."
   ]
  },
  {
   "cell_type": "code",
   "execution_count": 36,
   "id": "45c44fca-8f93-4ae7-9a5f-bbfc1895b84e",
   "metadata": {},
   "outputs": [
    {
     "name": "stdout",
     "output_type": "stream",
     "text": [
      "        Record user score\n",
      "0       id:105  NaN   NaN\n",
      "1  user: Alice  NaN   NaN\n",
      "2     score:92  NaN   NaN\n",
      "Record    object\n",
      "user      object\n",
      "score     object\n",
      "dtype: object\n"
     ]
    }
   ],
   "source": [
    "import pandas as pd\n",
    "df=pd.DataFrame({\n",
    "    \"Record\":['id:105',\n",
    "            'user: Alice',\n",
    "            'score:92']\n",
    "    })\n",
    "df[[\"user\", \"score\"]] = df[\"Record\"].str.extract(r'user=([^;]+);\\s*score=(\\d+)')\n",
    "\n",
    "\n",
    "print(df)\n",
    "print(df.dtypes)"
   ]
  },
  {
   "cell_type": "code",
   "execution_count": 2,
   "id": "098221e4-97bd-4e7d-84d4-3c1667f40eec",
   "metadata": {},
   "outputs": [
    {
     "name": "stdout",
     "output_type": "stream",
     "text": [
      "                     Info\n",
      "0    Name: Alice, Age: 30\n",
      "1      Name: Bob, Age: 25\n",
      "2  Name: Charlie, Age: 35\n"
     ]
    }
   ],
   "source": [
    "df = pd.DataFrame({\n",
    "    \"Info\": [\"Name: Alice, Age: 30\",\n",
    "            \"Name: Bob, Age: 25\",\n",
    "            \"Name: Charlie, Age: 35\"]\n",
    "})\n",
    "\n",
    "print(df)"
   ]
  },
  {
   "cell_type": "code",
   "execution_count": 3,
   "id": "22cdee58-3101-4ca4-b3e4-e89a2f110348",
   "metadata": {},
   "outputs": [
    {
     "name": "stdout",
     "output_type": "stream",
     "text": [
      "Таблица после извлечения имени и возраста:\n",
      "                      Info     Name Age\n",
      "0    Name: Alice, Age: 30    Alice  30\n",
      "1      Name: Bob, Age: 25      Bob  25\n",
      "2  Name: Charlie, Age: 35  Charlie  35\n"
     ]
    }
   ],
   "source": [
    "df[[\"Name\", \"Age\"]] = df[\"Info\"].str.extract(r'Name: (.+), Age: (\\d+)')\n",
    "\n",
    "print(\"Таблица после извлечения имени и возраста:\\n\" ,df)"
   ]
  },
  {
   "cell_type": "code",
   "execution_count": null,
   "id": "60fc293d-8fd5-4cda-b480-b858685e259e",
   "metadata": {},
   "outputs": [],
   "source": []
  }
 ],
 "metadata": {
  "kernelspec": {
   "display_name": "Python 3 (ipykernel)",
   "language": "python",
   "name": "python3"
  },
  "language_info": {
   "codemirror_mode": {
    "name": "ipython",
    "version": 3
   },
   "file_extension": ".py",
   "mimetype": "text/x-python",
   "name": "python",
   "nbconvert_exporter": "python",
   "pygments_lexer": "ipython3",
   "version": "3.12.4"
  }
 },
 "nbformat": 4,
 "nbformat_minor": 5
}
