{
 "cells": [
  {
   "cell_type": "code",
   "execution_count": 2,
   "id": "4519cf94-d27b-4914-9d9e-6117c5a9eeac",
   "metadata": {},
   "outputs": [
    {
     "name": "stdout",
     "output_type": "stream",
     "text": [
      "   Salary NEWCOLUMNSalary  SECONDnewcolumn\n",
      "0  145000     145000 руб.           145000\n",
      "1  152000     152000 руб.           152000\n",
      "2  161000     161000 руб.           161000\n",
      "Salary              int64\n",
      "NEWCOLUMNSalary    object\n",
      "SECONDnewcolumn     int64\n",
      "dtype: object\n"
     ]
    }
   ],
   "source": [
    "# сделайте DataFrame с колонкой \"Salary\" со значениями [145000, 152000, 161000].\n",
    "# 1) Преобразуйте их в строки вида \"45000 руб.\" и сохраните в новой колонке.\n",
    "# 2) Из полученных строк извлеките обратно числа и приведите их к типу int во второй новой колонке.\n",
    "import pandas as pd\n",
    "df=pd.DataFrame({\n",
    "    \"Salary\":[145000, 152000, 161000]\n",
    "    })\n",
    "df[\"NEWCOLUMNSalary\"]=df[\"Salary\"].astype(str)+\" руб.\"\n",
    "df[\"SECONDnewcolumn\"]=df[\"NEWCOLUMNSalary\"].str.replace(\" руб.\", \"\", regex=False)\n",
    "df[\"SECONDnewcolumn\"]=df[\"SECONDnewcolumn\"].astype(int)\n",
    "print(df)\n",
    "print(df.dtypes)\n",
    "\n",
    "# используйте .astype(str) + конкатенацию; для извлечения - .str.replace(\" руб.\", \"\", regex=False) + .astype(int)\n",
    "#            или .str.extract(r'(\\d+)') + .astype(int)."
   ]
  },
  {
   "cell_type": "code",
   "execution_count": 3,
   "id": "6dfdcdf8-7ecb-4e8c-aa1f-980b96178ad6",
   "metadata": {},
   "outputs": [
    {
     "name": "stdout",
     "output_type": "stream",
     "text": [
      "               Salary\n",
      "0    https://site.org\n",
      "1  http://example.com\n",
      "2    https://docs.org\n",
      "Filtered_df              Salary\n",
      "0  https://site.org\n",
      "2  https://docs.org\n"
     ]
    }
   ],
   "source": [
    "# Постройте DataFrame с колонкой \"URL\" (например: [\"https://site.org\", \"http://example.com\", \"https://docs.org\"]).\n",
    "# Отфильтруйте строки, где адрес оканчивается на \".org\".\n",
    "import pandas as pd\n",
    "df=pd.DataFrame({\n",
    "    \"Salary\":[\"https://site.org\", \"http://example.com\", \"https://docs.org\"]\n",
    "    })\n",
    "print(df)\n",
    "df_filt= df[df['Salary'].str.contains(r'\\.org$', regex=True)]\n",
    "print(\"Filtered_df\", df_filt)\n",
    "# примените булеву маску через .str.contains(r'\\.org$', regex=True) и индексацию df[mask]."
   ]
  },
  {
   "cell_type": "code",
   "execution_count": 4,
   "id": "b7880251-9130-474b-ba23-0102e6ddea67",
   "metadata": {},
   "outputs": [
    {
     "name": "stdout",
     "output_type": "stream",
     "text": [
      "       Record user score\n",
      "0     id:=105  NaN   NaN\n",
      "1  user=Alice  NaN   NaN\n",
      "2    score=92  NaN   NaN\n",
      "Record    object\n",
      "user      object\n",
      "score     object\n",
      "dtype: object\n"
     ]
    }
   ],
   "source": [
    "# Постройте DataFrame с колонкой \"Record\" со строками формата \"id=105; user=Alice; score=92\".\n",
    "# Извлеките user и score в отдельные колонки (user — строка, score — число).\n",
    "import pandas as pd\n",
    "df=pd.DataFrame({\n",
    "    \"Record\":['id:=105',\n",
    "            'user=Alice',\n",
    "            'score=92']\n",
    "    })\n",
    "df[[\"user\", \"score\"]] = df[\"Record\"].str.extract(r'user: (.+), score: (\\d+)')\n",
    "\n",
    "\n",
    "print(df)\n",
    "print(df.dtypes)\n",
    "# используйте .str.extract(r'user=([^;]+);\\s*score=(\\d+)'), затем для score — .astype(int)."
   ]
  },
  {
   "cell_type": "code",
   "execution_count": 5,
   "id": "3cbe1e27-7b8d-4b28-a1f3-41a7de1b9a85",
   "metadata": {},
   "outputs": [
    {
     "name": "stdout",
     "output_type": "stream",
     "text": [
      "        Record user score\n",
      "0       id:105  NaN   NaN\n",
      "1  user: Alice  NaN   NaN\n",
      "2     score:92  NaN   NaN\n",
      "Record    object\n",
      "user      object\n",
      "score     object\n",
      "dtype: object\n"
     ]
    }
   ],
   "source": [
    "import pandas as pd\n",
    "df=pd.DataFrame({\n",
    "    \"Record\":['id:105',\n",
    "            'user: Alice',\n",
    "            'score:92']\n",
    "    })\n",
    "df[[\"user\", \"score\"]] = df[\"Record\"].str.extract(r'user=([^;]+);\\s*score=(\\d+)')\n",
    "\n",
    "\n",
    "print(df)\n",
    "print(df.dtypes)"
   ]
  },
  {
   "cell_type": "code",
   "execution_count": 10,
   "id": "c4530056-69fb-4961-9ec5-214d2d15b9a8",
   "metadata": {},
   "outputs": [
    {
     "name": "stdout",
     "output_type": "stream",
     "text": [
      "0     5\n",
      "1    10\n",
      "2    15\n",
      "3    20\n",
      "4    25\n",
      "dtype: int64\n",
      "0     0\n",
      "1     5\n",
      "2    10\n",
      "3    15\n",
      "4    20\n",
      "5    25\n",
      "dtype: int64\n",
      "0     0\n",
      "1     5\n",
      "2    10\n",
      "3    15\n",
      "4    20\n",
      "5    25\n",
      "dtype: int64\n"
     ]
    }
   ],
   "source": [
    "# создайте Series со значениями [5, 10, 15]. Добавьте в конец значения [20, 25],\n",
    "import pandas as pd\n",
    "series1=pd.Series([5, 10, 15])\n",
    "series2=pd.Series([20, 25])\n",
    "new_series=pd.concat([series1, series2], ignore_index=True)\n",
    "print (new_series)\n",
    "\n",
    "# а затем добавьте значение [0] в начало. Перенумеруйте индексы по порядку.\n",
    "new_series=pd.concat([pd.Series([0]), new_series], ignore_index=True)\n",
    "print(new_series)\n",
    "new_series_renumbered=new_series.reset_index(drop=True)\n",
    "print(new_series_renumbered)\n",
    "\n",
    "# объединяйте серии через pd.concat([s, pd.Series([...])], ignore_index=True);\n",
    "#            для добавления в начало — pd.concat([pd.Series([0]), s], ignore_index=True)."
   ]
  },
  {
   "cell_type": "code",
   "execution_count": 19,
   "id": "4aa5a6db-76f9-4242-8224-69a2f2d6ee9d",
   "metadata": {},
   "outputs": [
    {
     "name": "stdout",
     "output_type": "stream",
     "text": [
      "  Name Age\n",
      "0    1   4\n",
      "1    2   5\n",
      "2    3   6\n",
      "  Name Age\n",
      "0    7  10\n",
      "1    8  11\n",
      "2    9  12\n",
      "  Name Age\n",
      "0    1   4\n",
      "1    2   5\n",
      "2    3   6\n",
      "3    7  10\n",
      "4    8  11\n",
      "5    9  12\n"
     ]
    }
   ],
   "source": [
    "# создайте DataFrame с колонками \"Name\", \"Age\" и тремя строками.\n",
    "# Добавьте сразу две новые строки с теми же колонками.\n",
    "import pandas as pd\n",
    "df=pd.DataFrame({\n",
    "    \"Name\":[ '1', '2' ,'3' ],\n",
    "    \"Age\":[ '4', '5', '6' ]\n",
    "})\n",
    "new_rows=pd.DataFrame({\n",
    "    \"Name\":[ '7', '8' ,'9' ],\n",
    "    \"Age\":[ '10', '11', '12' ]\n",
    "})\n",
    "print(df)\n",
    "print(new_rows)\n",
    "df_new = pd.concat([df, new_rows], ignore_index=True)\n",
    "print(df_new)\n",
    "\n",
    "# сформируйте отдельный DataFrame с новыми строками и объедините через pd.concat([...], ignore_index=True).\n"
   ]
  },
  {
   "cell_type": "code",
   "execution_count": 23,
   "id": "457a4138-284e-4710-afc5-1383349d3d2a",
   "metadata": {},
   "outputs": [
    {
     "name": "stdout",
     "output_type": "stream",
     "text": [
      "0    2\n",
      "1    4\n",
      "2    1\n",
      "3    5\n",
      "4    3\n",
      "dtype: int64\n",
      "Тип объекта возвращаемого методом plot:\n",
      " <class 'matplotlib.axes._axes.Axes'>\n"
     ]
    },
    {
     "data": {
      "image/png": "[encoded data removed]",
      "text/plain": [
       "<Figure size 640x480 with 1 Axes>"
      ]
     },
     "metadata": {},
     "output_type": "display_data"
    }
   ],
   "source": [
    "# создайте Series с числовыми значениями (например, [2, 4, 1, 5, 3]) и постройте линейный график.\n",
    "# Добавьте заголовок и подписи осей.\n",
    "import pandas as pd\n",
    "\n",
    "s=pd.Series([2, 4, 1, 5, 3])\n",
    "print(s)\n",
    "ax = s.plot(kind='line', title=\"Линейный график\")\n",
    "print(\"Тип объекта возвращаемого методом plot:\\n\", type(ax))\n",
    "import matplotlib.pyplot as plt\n",
    "plt.xlabel(\"Индекс\")\n",
    "plt.ylabel(\"Значение\")\n",
    "\n",
    "plt.show()\n",
    "# используйте .plot(kind='line'), затем plt.title(...), plt.xlabel(...), plt.ylabel(...), plt.show()."
   ]
  },
  {
   "cell_type": "code",
   "execution_count": 37,
   "id": "86a2f2eb-bac3-4f75-8ba1-238b8eb17a3c",
   "metadata": {},
   "outputs": [
    {
     "name": "stdout",
     "output_type": "stream",
     "text": [
      "   Sales_A  Sales_B  Sales_C\n",
      "0       11       22       33\n"
     ]
    },
    {
     "data": {
      "image/png": "[encoded data removed]",
      "text/plain": [
       "<Figure size 640x480 with 1 Axes>"
      ]
     },
     "metadata": {},
     "output_type": "display_data"
    }
   ],
   "source": [
    "# создайте DataFrame с тремя числовыми колонками одинаковой длины (например, sales_A, sales_B, sales_C).\n",
    "import pandas as pd\n",
    "import matplotlib.pyplot as plt\n",
    "\n",
    "df=pd.DataFrame({\n",
    "    \"Sales_A\": [11]  ,\n",
    "    \"Sales_B\": [22],\n",
    "    \"Sales_C\": [33]\n",
    "                })\n",
    "print(df)\n",
    "\n",
    "ax=df.plot(kind='bar', stacked=True)\n",
    "\n",
    "plt.xlabel(\"Индекс\")\n",
    "plt.ylabel(\"Значения\") \n",
    "plt.legend(\"Легенда\")\n",
    "plt.show()\n",
    "# Постройте \"стековую\" столбчатую диаграмму (stacked bar) для сравнения вкладов по строкам.\n",
    "\n",
    "# df.plot(kind='bar', stacked=True); дополнительно подпишите оси и легенду (plt.xlabel, plt.ylabel, plt.legend).\n"
   ]
  },
  {
   "cell_type": "code",
   "execution_count": 64,
   "id": "49c7faa6-abe7-49b4-847e-799abef974b9",
   "metadata": {},
   "outputs": [
    {
     "name": "stdout",
     "output_type": "stream",
     "text": [
      "{'name': 'Barbie', 'price': 2500, 'qty': 32}\n",
      "{'name': 'Barbie', 'price': 4500, 'qty': 32}\n",
      "Ключи и значения словаря:\n",
      "name: Barbie\n",
      "price: 4500\n",
      "qty: 32\n",
      "in_stock: True\n",
      "{'name': 'Barbie', 'price': 4500, 'qty': 32, 'in_stock': True}\n"
     ]
    }
   ],
   "source": [
    "# создайте словарь \"product\" с полями: name, price, qty. Обновите price (новым значением),\n",
    "# добавьте булев ключ in_stock и выведите все ключи и значения словаря.\n",
    "product={\n",
    "    \"name\":\"Barbie\",\n",
    "    \"price\": 2500,\n",
    "    \"qty\": 32\n",
    "}\n",
    "print(product)\n",
    "\n",
    "new_price={\"price\":4500}\n",
    "\n",
    "product.update(new_price)\n",
    "print(product)\n",
    "\n",
    "product['in_stock'] = True\n",
    "print(\"Ключи и значения словаря:\")\n",
    "for key, value in product.items():\n",
    "    print(f\"{key}: {value}\")\n",
    "\n",
    "\n",
    "# используйте присваивание product['key'] = value или product.update(...); для просмотра — .keys(), .values(), .items()."
   ]
  },
  {
   "cell_type": "code",
   "execution_count": 75,
   "id": "7bfe2b1b-f744-47ee-8c06-f46ed60dc72b",
   "metadata": {},
   "outputs": [
    {
     "name": "stdout",
     "output_type": "stream",
     "text": [
      "Исходный словарь:\n",
      " [{'City': 'Moscow', 'Population': 12.6}, {'City': 'Novosibirsk', 'Population': 1.6}, {'City': 'St. Petersburg', 'Population': 5.4}]\n",
      "Датафрейм из словаря (таблица):\n",
      "              City  Population\n",
      "0          Moscow        12.6\n",
      "1     Novosibirsk         1.6\n",
      "2  St. Petersburg         5.4\n",
      "                Population\n",
      "City                      \n",
      "Moscow                12.6\n",
      "Novosibirsk            1.6\n",
      "St. Petersburg         5.4\n",
      "                Population\n",
      "City                      \n",
      "Moscow                12.6\n",
      "St. Petersburg         5.4\n",
      "Novosibirsk            1.6\n"
     ]
    }
   ],
   "source": [
    "# преобразуйте список словарей вида [{'City': 'Moscow', 'Population': 12.6}, ...] в DataFrame.\n",
    "dictionary=[{'City': 'Moscow', 'Population': 12.6},\n",
    "            {'City': 'Novosibirsk', 'Population': 1.6},\n",
    "           {'City': 'St. Petersburg', 'Population': 5.4}]\n",
    "      \n",
    "print(\"Исходный словарь:\\n\", dictionary)\n",
    "\n",
    "import pandas as pd\n",
    "dictionary_df=pd.DataFrame(dictionary)\n",
    "print(\"Датафрейм из словаря (таблица):\\n\", dictionary_df)\n",
    "# Сделайте 'City' индексом и отсортируйте по 'Population' по убыванию.\n",
    "\n",
    "dictionary_df = dictionary_df.set_index('City')\n",
    "print(dictionary_df)\n",
    "\n",
    "dictionary_df=dictionary_df.sort_values(by='Population', ascending=False)\n",
    "\n",
    "print(dictionary_df)\n",
    "# pd.DataFrame(list_of_dicts); затем .set_index('City') и .sort_values('Population', ascending=False).\n"
   ]
  },
  {
   "cell_type": "code",
   "execution_count": 11,
   "id": "9761536d-64cd-46eb-9049-a103884e0f33",
   "metadata": {},
   "outputs": [
    {
     "name": "stdout",
     "output_type": "stream",
     "text": [
      "   Name  BirthYear  Age\n",
      "0  Alex       2019    6\n"
     ]
    }
   ],
   "source": [
    "# создайте DataFrame с колонками \"Name\" и \"BirthYear\". Добавьте вычисляемую колонку \"Age\" как 2025 - BirthYear\n",
    "import pandas as pd\n",
    "df=pd.DataFrame({\n",
    "    \"Name\": ['Alex'],\n",
    "    \"BirthYear\": [2019]\n",
    "    })\n",
    "\n",
    "df['Age']=2025-df[\"BirthYear\"]\n",
    "print(df)\n",
    "\n",
    "# используйте арифметику по столбцам (df['Age'] = 2025 - df['BirthYear']) или метод .assign(Age=...).\n"
   ]
  },
  {
   "cell_type": "code",
   "execution_count": 13,
   "id": "be72abf1-ad5c-4605-b133-e24d2cff52dd",
   "metadata": {},
   "outputs": [
    {
     "name": "stdout",
     "output_type": "stream",
     "text": [
      "   Name  BirthYear\n",
      "0  Alex       2019\n",
      "   Name  BirthYear  Age\n",
      "0  Alex       2019    6\n"
     ]
    }
   ],
   "source": [
    "# создайте DataFrame с колонками \"Name\" и \"BirthYear\". Добавьте вычисляемую колонку \"Age\" как 2025 - BirthYear\n",
    "import pandas as pd\n",
    "df=pd.DataFrame({\n",
    "    \"Name\": ['Alex'],\n",
    "    \"BirthYear\": [2019]\n",
    "    })\n",
    "\n",
    "print(df)\n",
    "df_new=df.assign(Age=2025-df['BirthYear'])\n",
    "print(df_new)\n",
    "\n",
    "# используйте арифметику по столбцам (df['Age'] = 2025 - df['BirthYear']) или метод .assign(Age=...).\n"
   ]
  },
  {
   "cell_type": "code",
   "execution_count": 25,
   "id": "cec5826a-3b73-4aca-a914-53ab18f436dd",
   "metadata": {},
   "outputs": [
    {
     "name": "stdout",
     "output_type": "stream",
     "text": [
      "\n",
      "Файл Excel записан: Data.xlsx\n",
      "   Name  BirthYear\n",
      "0  Alex       2019\n",
      "(1, 2)\n",
      "Name         object\n",
      "BirthYear     int64\n",
      "dtype: object\n",
      "Файл csv записан:\n",
      " data_csv.csv\n",
      "   Name  BirthYear\n",
      "0  Alex       2019\n",
      "(1, 2)\n",
      "Name         object\n",
      "BirthYear     int64\n",
      "dtype: object\n",
      "Файл json записан:\n",
      " data_json.json\n",
      "   Name  BirthYear\n",
      "0  Alex       2019\n",
      "(1, 2)\n",
      "Name         object\n",
      "BirthYear     int64\n",
      "dtype: object\n"
     ]
    }
   ],
   "source": [
    "# сохраните произвольный DataFrame в Excel (лист \"Data\"), затем прочитайте его обратно в DataFrame.\n",
    "\n",
    "import pandas as pd\n",
    "\n",
    "df=pd.DataFrame({\n",
    "    \"Name\": ['Alex'],\n",
    "    \"BirthYear\": [2019]\n",
    "    })\n",
    "Data=\"Data.xlsx\"\n",
    "try:\n",
    "    df.to_excel(Data,index=False, sheet_name='Data') \n",
    "    print(f\"\\nФайл Excel записан: {Data}\")\n",
    "except Exception as e:\n",
    "    print(\"\\n[Warning] Не удалось записать Excel\")\n",
    "    print(\"Исключение:\\n\", repr(e))\n",
    "\n",
    "\n",
    "Data_from_excel=pd.read_excel(Data, sheet_name = \"Data\")\n",
    "print(Data_from_excel)\n",
    "print(Data_from_excel.shape)\n",
    "print(Data_from_excel.dtypes)\n",
    " \n",
    "# После этого сохраните те же данные в CSV (без индекса) и JSON (orient='records'), прочитайте оба файла обратно.\n",
    "\n",
    "Data_csv=\"data_csv.csv\"\n",
    "\n",
    "Data_from_excel.to_csv(Data_csv, index=False, encoding='utf-8')\n",
    "print(f\"Файл csv записан:\\n {Data_csv}\")\n",
    "Data_from_csv = pd.read_csv(Data_csv, encoding='utf-8')\n",
    "print(Data_from_csv)\n",
    "print(Data_from_csv.shape)\n",
    "print(Data_from_csv.dtypes)\n",
    "\n",
    "\n",
    "Data_json=\"data_json.json\"\n",
    "\n",
    "Data_from_csv.to_json(Data_json, orient='records', force_ascii=False)\n",
    "print(f\"Файл json записан:\\n {Data_json}\")\n",
    "\n",
    "Data_from_json=pd.read_json(Data_json, orient='records')\n",
    "print(Data_from_json)\n",
    "print(Data_from_json.shape)\n",
    "print(Data_from_json.dtypes)\n",
    "\n",
    "\n",
    "\n",
    "# На каждом шаге выводите форму и типы данных.   \n",
    "\n",
    "# .to_excel(path, index=False, sheet_name='Data') и pd.read_excel(..., sheet_name='Data');\n",
    "#            .to_csv(path, index=False) и pd.read_csv(...);\n",
    "#            .to_json(path, orient='records', force_ascii=False) и pd.read_json(path, orient='records').\n"
   ]
  },
  {
   "cell_type": "code",
   "execution_count": null,
   "id": "b5fe9433-9a8c-4ec1-82bc-68920af91008",
   "metadata": {},
   "outputs": [],
   "source": []
  }
 ],
 "metadata": {
  "kernelspec": {
   "display_name": "Python 3 (ipykernel)",
   "language": "python",
   "name": "python3"
  },
  "language_info": {
   "codemirror_mode": {
    "name": "ipython",
    "version": 3
   },
   "file_extension": ".py",
   "mimetype": "text/x-python",
   "name": "python",
   "nbconvert_exporter": "python",
   "pygments_lexer": "ipython3",
   "version": "3.13.5"
  }
 },
 "nbformat": 4,
 "nbformat_minor": 5
}
