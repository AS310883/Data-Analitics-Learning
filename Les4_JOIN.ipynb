{
  "nbformat": 4,
  "nbformat_minor": 0,
  "metadata": {
    "colab": {
      "provenance": []
    },
    "kernelspec": {
      "name": "python3",
      "display_name": "Python 3"
    },
    "language_info": {
      "name": "python"
    }
  },
  "cells": [
    {
      "cell_type": "markdown",
      "source": [
        "Получите список всех продуктов с названием поставщика."
      ],
      "metadata": {
        "id": "AiKVJhGjMrg4"
      }
    },
    {
      "cell_type": "code",
      "source": [
        "import sqlite3\n",
        "\n",
        "# Создаем базу данных и добавляем таблицы\n",
        "conn = sqlite3.connect(':memory:')\n",
        "cursor = conn.cursor()\n",
        "\n",
        "# Создаем таблицу Products\n",
        "cursor.execute('''\n",
        "CREATE TABLE Products (\n",
        "    product_id INTEGER NOT NULL,\n",
        "    product_name TEXT NOT NULL,\n",
        "    supplier_id INTEGER NOT NULL\n",
        ")\n",
        "''')\n",
        "\n",
        "# Создаем таблицу Suppliers\n",
        "cursor.execute('''\n",
        "CREATE TABLE Suppliers (\n",
        "    supplier_id INTEGER NOT NULL,\n",
        "    company_name TEXT NOT NULL\n",
        ")\n",
        "''')\n",
        "\n",
        "# Вставляем синтетические данные\n",
        "products_data = [\n",
        "    (1, 'Laptop', 1),\n",
        "    (2, 'Mouse', 2),\n",
        "    (3, 'Keyboard', 1)\n",
        "]\n",
        "suppliers_data = [\n",
        "    (1, 'TechCo'),\n",
        "    (2, 'Peripherals Inc.')\n",
        "]\n",
        "cursor.executemany('INSERT INTO Products VALUES (?, ?, ?)', products_data)\n",
        "cursor.executemany('INSERT INTO Suppliers VALUES (?, ?)', suppliers_data)\n",
        "\n",
        "# Выполняем запрос\n",
        "cursor.execute('''\n",
        "SELECT p.product_name, s.company_name\n",
        "FROM Products p\n",
        "INNER JOIN Suppliers s ON p.supplier_id=s.supplier_id\n",
        "''')\n",
        "rows = cursor.fetchall()\n",
        "\n",
        "# Выводим результат\n",
        "for row in rows:\n",
        "    print(f\"Product: {row[0]}, Supplier: {row[1]}\")\n",
        "\n",
        "# Закрываем соединение\n",
        "conn.close()"
      ],
      "metadata": {
        "colab": {
          "base_uri": "https://localhost:8080/"
        },
        "id": "3HmWpc6KNhc7",
        "outputId": "fda609a1-55df-4de3-faba-8a117c583878"
      },
      "execution_count": 5,
      "outputs": [
        {
          "output_type": "stream",
          "name": "stdout",
          "text": [
            "Product: Laptop, Supplier: TechCo\n",
            "Product: Mouse, Supplier: Peripherals Inc.\n",
            "Product: Keyboard, Supplier: TechCo\n"
          ]
        }
      ]
    }
  ]
}