{
  "nbformat": 4,
  "nbformat_minor": 0,
  "metadata": {
    "colab": {
      "provenance": []
    },
    "kernelspec": {
      "name": "python3",
      "display_name": "Python 3"
    },
    "language_info": {
      "name": "python"
    }
  },
  "cells": [
    {
      "cell_type": "markdown",
      "source": [
        "## Задание №3: Добавление новых записей и фильтрация по условию\n",
        "\n",
        "Создать временные базы данных, заполнить их необходимыми таблицами и добавить дополнительные записи сотрудников и отделов. Затем выбрать всех сотрудников, работающих в определенном отделе, используя условие WHERE.\n"
      ],
      "metadata": {
        "id": "g6_WZxEC00gK"
      }
    },
    {
      "cell_type": "code",
      "source": [
        "import sqlite3\n",
        "\n",
        "# Создаем временную базу данных\n",
        "conn = sqlite3.connect(':memory:')\n",
        "cur = conn.cursor()\n",
        "\n",
        "# Создаем таблицы\n",
        "cur.execute(\"\"\"\n",
        "CREATE TABLE Employees(\n",
        "    employee_id INT PRIMARY KEY,\n",
        "    name TEXT,\n",
        "    salary REAL,\n",
        "    department_id INT\n",
        ")\n",
        "\"\"\")\n",
        "\n",
        "cur.execute(\"\"\"\n",
        "CREATE TABLE Departments(\n",
        "    department_id INT PRIMARY KEY,\n",
        "    department_name TEXT\n",
        ")\n",
        "\"\"\")\n",
        "\n",
        "# Вставляем начальные данные\n",
        "employees_data = [\n",
        "    (1, 'Иван Петров', 50000, 1),\n",
        "    (2, 'Анна Смирнова', 70000, 2),\n",
        "]\n",
        "departments_data = [\n",
        "    (1, 'Отдел IT'),\n",
        "    (2, 'Продажи')\n",
        "]\n",
        "\n",
        "cur.executemany('INSERT INTO Employees VALUES(?, ?, ?, ?)', employees_data)\n",
        "cur.executemany('INSERT INTO Departments VALUES(?, ?)', departments_data)\n",
        "\n",
        "# Добавляем новые записи\n",
        "new_employees = [\n",
        "    (3, 'Михаил Иванов', 80000, 1),\n",
        "    (4, 'Ольга Васильева', 60000, 2)\n",
        "]\n",
        "cur.executemany('INSERT INTO Employees VALUES (?, ?, ?, ?)', new_employees)\n",
        "\n",
        "# Запрашиваем всех сотрудников отдела продаж (department_id=2)\n",
        "cur.execute(\"\"\" SELECT Employees.employee_id, Employees.name, Employees.salary, Departments.department_name\n",
        "             FROM Employees JOIN Departments ON Employees.department_id = Departments.department_id\n",
        "            WHERE Departments.department_id = ?\n",
        "\"\"\", (2,))\n",
        "\n",
        "# Выводим результат\n",
        "results = cur.fetchall()\n",
        "for row in results:\n",
        "    print(row)\n",
        "\n",
        "# Закрываем соединение\n",
        "conn.close()"
      ],
      "metadata": {
        "colab": {
          "base_uri": "https://localhost:8080/"
        },
        "id": "dW-TNHVwW4v0",
        "outputId": "855703e4-5e8a-4668-e415-4c06fdbad265"
      },
      "execution_count": 7,
      "outputs": [
        {
          "output_type": "stream",
          "name": "stdout",
          "text": [
            "(2, 'Анна Смирнова', 70000.0, 'Продажи')\n",
            "(4, 'Ольга Васильева', 60000.0, 'Продажи')\n"
          ]
        }
      ]
    },
    {
      "cell_type": "code",
      "source": [
        "import sqlite3\n",
        "\n",
        "# Создаем временную базу данных\n",
        "conn = sqlite3.connect(':memory:')\n",
        "cur = conn.cursor()\n",
        "\n",
        "# Создаем таблицы\n",
        "cur.execute(\"\"\"\n",
        "CREATE TABLE Employees(\n",
        "    employee_id INT PRIMARY KEY,\n",
        "    name TEXT,\n",
        "    salary REAL,\n",
        "    department_id INT\n",
        ")\n",
        "\"\"\")\n",
        "\n",
        "cur.execute(\"\"\"\n",
        "CREATE TABLE Departments(\n",
        "    department_id INT PRIMARY KEY,\n",
        "    department_name TEXT\n",
        ")\n",
        "\"\"\")\n",
        "\n",
        "# Вставляем начальные данные\n",
        "employees_data = [\n",
        "    (1, 'Иван Петров', 50000, 1),\n",
        "    (2, 'Анна Смирнова', 70000, 2),\n",
        "]\n",
        "departments_data = [\n",
        "    (1, 'Отдел IT'),\n",
        "    (2, 'Продажи')\n",
        "]\n",
        "\n",
        "cur.executemany(\"INSERT INTO Employees VALUES (?,?,?,?)\", employees_data)\n",
        "cur.executemany(\"INSERT INTO Departments VALUES (?,?)\", departments_data)\n",
        "\n",
        "# Добавляем новые записи\n",
        "new_employees = [\n",
        "    (3, 'Михаил Иванов', 80000, 1),\n",
        "    (4, 'Ольга Васильева', 60000, 2)\n",
        "]\n",
        "cur.executemany(\"INSERT INTO Employees VALUES (?,?,?,?)\", new_employees)\n",
        "\n",
        "# Запрашиваем всех сотрудников отдела продаж (department_id=2)\n",
        "cur.execute(\"\"\"\n",
        "SELECT Employees.employee_id, Employees.name, Employees.salary, Departments.department_name\n",
        "FROM Employees\n",
        "JOIN Departments ON Employees.department_id = Departments.department_id\n",
        "WHERE Departments.department_id = ?\n",
        "\"\"\", (2,))\n",
        "\n",
        "# Выводим результат\n",
        "results = cur.fetchall()\n",
        "for row in results:\n",
        "    print(row)\n",
        "\n",
        "# Закрываем соединение\n",
        "conn.close()"
      ],
      "metadata": {
        "colab": {
          "base_uri": "https://localhost:8080/"
        },
        "id": "ovFWNhzjb2Jo",
        "outputId": "5d591c16-ddac-4fe2-9852-fca285e8211d"
      },
      "execution_count": 4,
      "outputs": [
        {
          "output_type": "stream",
          "name": "stdout",
          "text": [
            "(2, 'Анна Смирнова', 70000.0, 'Продажи')\n",
            "(4, 'Ольга Васильева', 60000.0, 'Продажи')\n"
          ]
        }
      ]
    }
  ]
}