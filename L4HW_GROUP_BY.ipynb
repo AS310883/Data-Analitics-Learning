{
  "nbformat": 4,
  "nbformat_minor": 0,
  "metadata": {
    "colab": {
      "provenance": []
    },
    "kernelspec": {
      "name": "python3",
      "display_name": "Python 3"
    },
    "language_info": {
      "name": "python"
    }
  },
  "cells": [
    {
      "cell_type": "code",
      "execution_count": 6,
      "metadata": {
        "colab": {
          "base_uri": "https://localhost:8080/"
        },
        "id": "5vUOtRdoCMnR",
        "outputId": "382a0f78-f2f4-4538-9f43-28a7b6a1a6fd"
      },
      "outputs": [
        {
          "output_type": "stream",
          "name": "stdout",
          "text": [
            "Customer ID: 1, Total Spent: 250.00\n",
            "Customer ID: 2, Total Spent: 200.00\n",
            "Customer ID: 3, Total Spent: 300.00\n"
          ]
        }
      ],
      "source": [
        "import sqlite3\n",
        "\n",
        "# Создаем базу данных и добавляем таблицу\n",
        "conn = sqlite3.connect(':memory:')\n",
        "cursor = conn.cursor()\n",
        "\n",
        "# Создаем таблицу Orders\n",
        "cursor.execute('''\n",
        "CREATE TABLE Orders (\n",
        "  order_id INTEGER NOT NULL,\n",
        "  customer_id INTEGER NOT NULL,\n",
        "  product_name TEXT NOT NULL,\n",
        "  price INTEGER NOT NULL\n",
        ")\n",
        "''')\n",
        "\n",
        "# Вставляем синтетические данные\n",
        "orders_data = [\n",
        "    (1, 1, 'Product A', 100),\n",
        "    (2, 1, 'Product B', 150),\n",
        "    (3, 2, 'Product C', 200),\n",
        "    (4, 3, 'Product D', 300)\n",
        "]\n",
        "cursor.executemany('INSERT INTO Orders VALUES (?, ?, ?, ?)', orders_data)\n",
        "\n",
        "# Выполняем запрос\n",
        "cursor.execute('SELECT customer_id, SUM(price) FROM Orders GROUP BY customer_id ')\n",
        "rows = cursor.fetchall()\n",
        "\n",
        "# Выводим результат\n",
        "for row in rows:\n",
        "    print(f\"Customer ID: {row[0]}, Total Spent: {row[1]:.2f}\")\n",
        "\n",
        "# Закрываем соединение\n",
        "conn.close()"
      ]
    }
  ]
}