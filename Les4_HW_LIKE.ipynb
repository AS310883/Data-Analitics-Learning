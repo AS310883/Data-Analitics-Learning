{
  "nbformat": 4,
  "nbformat_minor": 0,
  "metadata": {
    "colab": {
      "provenance": []
    },
    "kernelspec": {
      "name": "python3",
      "display_name": "Python 3"
    },
    "language_info": {
      "name": "python"
    }
  },
  "cells": [
    {
      "cell_type": "markdown",
      "source": [
        "## 5. Примеры использования оператора LIKE"
      ],
      "metadata": {
        "id": "KtGddcHWtxS6"
      }
    },
    {
      "cell_type": "markdown",
      "source": [
        "Выведите все книги, в названии которых встречается слово \"Programming\".\n"
      ],
      "metadata": {
        "id": "DtuWQA6Oty_e"
      }
    },
    {
      "cell_type": "code",
      "source": [
        "import sqlite3\n",
        "\n",
        "# Создаем базу данных и добавляем таблицу\n",
        "conn = sqlite3.connect(':memory:')\n",
        "cursor = conn.cursor()\n",
        "\n",
        "# Создаем таблицу Books\n",
        "cursor.execute('''\n",
        "CREATE TABLE Books (\n",
        "  book_id INTEGER PRYMARY KEY,\n",
        "  title TEXT NOT NULL,\n",
        "  author TEXT NOT NULL\n",
        ")\n",
        "''')\n",
        "\n",
        "# Вставляем синтетические данные\n",
        "books_data = [\n",
        "    (1, 'The Great Adventure', 'J.K. Rowling'),\n",
        "    (2, 'History of Technology', 'Isaac Asimov'),\n",
        "    (3, 'Programming Basics', 'Robert Martin')\n",
        "]\n",
        "cursor.executemany('INSERT INTO Books VALUES (?, ?, ?)', books_data)\n",
        "\n",
        "# Выполняем запрос с оператором LIKE\n",
        "cursor.execute('SELECT * FROM Books WHERE title LIKE ?', ('%Programming%',))\n",
        "rows = cursor.fetchall()\n",
        "\n",
        "# Выводим результат\n",
        "for row in rows:\n",
        "    print(f\"Book Title: {row[1]}, Author: {row[2]}\")\n",
        "\n",
        "# Закрываем соединение\n",
        "conn.close()"
      ],
      "metadata": {
        "colab": {
          "base_uri": "https://localhost:8080/"
        },
        "id": "iLDRMbxiuLL5",
        "outputId": "9f93a937-f00f-4aed-ce27-9ea78ff1ba67"
      },
      "execution_count": 1,
      "outputs": [
        {
          "output_type": "stream",
          "name": "stdout",
          "text": [
            "Book Title: Programming Basics, Author: Robert Martin\n"
          ]
        }
      ]
    }
  ]
}