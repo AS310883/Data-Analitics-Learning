{
  "nbformat": 4,
  "nbformat_minor": 0,
  "metadata": {
    "colab": {
      "provenance": []
    },
    "kernelspec": {
      "name": "python3",
      "display_name": "Python 3"
    },
    "language_info": {
      "name": "python"
    }
  },
  "cells": [
    {
      "cell_type": "markdown",
      "source": [
        "## Задание №2. Слияние данных из CSV и JSON"
      ],
      "metadata": {
        "id": "TFw2N-tJQkdi"
      }
    },
    {
      "cell_type": "markdown",
      "source": [
        "Вам даны два файла: один в формате CSV с информацией о продуктовых складах (warehouses.csv), другой в формате JSON с товарами (products.json). Оба файла имеют общий ключ warehouse_id. Слейте данные таким образом, чтобы каждый склад содержал информацию о находящихся там товарах.\n",
        "\n",
        "warehouses.csv:"
      ],
      "metadata": {
        "id": "fuoqhbv1NzIU"
      }
    },
    {
      "cell_type": "code",
      "source": [
        "warehouse_id,location\n",
        "1,Moscow\n",
        "2,Saint Petersburg\n",
        "3,Voronezh"
      ],
      "metadata": {
        "id": "l6NPp4z9OYRg",
        "colab": {
          "base_uri": "https://localhost:8080/",
          "height": 105
        },
        "outputId": "373ba156-b4a4-42f9-e734-7860c3c20013"
      },
      "execution_count": 8,
      "outputs": [
        {
          "output_type": "error",
          "ename": "SyntaxError",
          "evalue": "invalid syntax (ipython-input-754792487.py, line 3)",
          "traceback": [
            "\u001b[0;36m  File \u001b[0;32m\"/tmp/ipython-input-754792487.py\"\u001b[0;36m, line \u001b[0;32m3\u001b[0m\n\u001b[0;31m    2,Saint Petersburg\u001b[0m\n\u001b[0m            ^\u001b[0m\n\u001b[0;31mSyntaxError\u001b[0m\u001b[0;31m:\u001b[0m invalid syntax\n"
          ]
        }
      ]
    },
    {
      "cell_type": "markdown",
      "source": [
        "products.json:"
      ],
      "metadata": {
        "id": "lykrDiJsOZtA"
      }
    },
    {
      "cell_type": "code",
      "source": [
        "[\n",
        "    {\"product_id\": 1, \"warehouse_id\": 1, \"product_name\": \"Chair\"},\n",
        "    {\"product_id\": 2, \"warehouse_id\": 2, \"product_name\": \"Table\"},\n",
        "    {\"product_id\": 3, \"warehouse_id\": 1, \"product_name\": \"Desk\"}\n",
        "]"
      ],
      "metadata": {
        "id": "rHQXG33POVvn"
      },
      "execution_count": null,
      "outputs": []
    },
    {
      "cell_type": "code",
      "source": [
        "import pandas as pd\n",
        "import json\n",
        "\n",
        "# Шаг 1: Создаем файлы с данными\n",
        "\n",
        "# Создаем CSV-файл с данными о складах\n",
        "with open('warehouses.csv', 'w') as f:\n",
        "    f.write('warehouse_id,location\\n')\n",
        "    f.write('1,Moscow\\n')\n",
        "    f.write('2,Saint Petersburg\\n')\n",
        "    f.write('3,Voronezh\\n')\n",
        "\n",
        "# Создаем JSON-файл с данными о товарах\n",
        "with open('products.json', 'w') as f:\n",
        "    json.dump([\n",
        "        {\"product_id\": 1, \"warehouse_id\": 1, \"product_name\": \"Chair\"},\n",
        "        {\"product_id\": 2, \"warehouse_id\": 2, \"product_name\": \"Table\"},\n",
        "        {\"product_id\": 3, \"warehouse_id\": 1, \"product_name\": \"Desk\"}\n",
        "    ], f)\n",
        "\n",
        "# Шаг 2: Загружаем данные из CSV и JSON\n",
        "warehouses = pd.read_csv('warehouses.csv')\n",
        "\n",
        "# Загружаем данные из JSON\n",
        "with open('products.json', 'r') as f:\n",
        "    products = json.load(f)\n",
        "\n",
        "# Приводим данные к DataFrame\n",
        "products_df = pd.DataFrame.from_records(products)\n",
        "\n",
        "# Шаг 3: Производим слияние\n",
        "merged_data = warehouses.merge(products_df, left_on='warehouse_id', right_on='warehouse_id', how='inner')\n",
        "\n",
        "# Шаг 4: Выводим результат\n",
        "print(merged_data)\n"
      ],
      "metadata": {
        "colab": {
          "base_uri": "https://localhost:8080/"
        },
        "id": "gKO7lG4cQ7BR",
        "outputId": "71b748af-ff38-4ea5-af46-7c3cc30eb97e"
      },
      "execution_count": 16,
      "outputs": [
        {
          "output_type": "stream",
          "name": "stdout",
          "text": [
            "   warehouse_id          location  product_id product_name\n",
            "0             1            Moscow           1        Chair\n",
            "1             1            Moscow           3         Desk\n",
            "2             2  Saint Petersburg           2        Table\n"
          ]
        }
      ]
    }
  ]
}