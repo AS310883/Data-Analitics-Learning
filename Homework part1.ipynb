{
 "cells": [
  {
   "cell_type": "code",
   "execution_count": 5,
   "id": "8505fdf0-8705-48bc-a6ff-d0a17e9ac0c3",
   "metadata": {},
   "outputs": [
    {
     "name": "stdout",
     "output_type": "stream",
     "text": [
      "Наша таблица \n",
      "     Цена      Товар  В наличии\n",
      "0   99.9     Barbie       True\n",
      "1  149.5  Hotwheels      False\n",
      "2  199.0  Dinosaurs       True\n",
      "выводим тип каждой колонки\n",
      " float64 object bool\n"
     ]
    }
   ],
   "source": [
    "# Сделайте DataFrame с колонками:\n",
    "#   \"Цена\" — значения [99.9, 149.5, 199.0],\n",
    "#   \"Товар\" — строки с названиями,\n",
    "#   \"В наличии\" — логические значения.\n",
    "# Выведите сам DataFrame и тип данных каждой колонки.\n",
    "import pandas as pd\n",
    "data={\n",
    "    'Цена':[99.9, 149.5, 199.0],\n",
    "    'Товар':['Barbie', 'Hotwheels','Dinosaurs'],\n",
    "    'В наличии':[True, False, True]\n",
    "}\n",
    "df = pd.DataFrame(data)\n",
    "\n",
    "print(\"Наша таблица \\n\", df)\n",
    "print(\"выводим тип каждой колонки\\n\", df['Цена'].dtype, df['Товар'].dtype, df['В наличии'].dtype)\n",
    "\n",
    "\n",
    "# используйте pd.DataFrame, df.dtypes, df['col'].dtype\n"
   ]
  },
  {
   "cell_type": "code",
   "execution_count": 7,
   "id": "a600a2f1-4ce6-4a77-aac9-88ebde8bc3ea",
   "metadata": {},
   "outputs": [
    {
     "name": "stdout",
     "output_type": "stream",
     "text": [
      "Наша таблица \n",
      "     Цена      Товар  В наличии\n",
      "0   99.9     Barbie       True\n",
      "1  149.5  Hotwheels      False\n",
      "2  199.0  Dinosaurs       True\n",
      "выводим тип каждой колонки\n",
      " float64 object bool\n"
     ]
    }
   ],
   "source": [
    "import pandas as pd\n",
    "\n",
    "df = pd.DataFrame({\n",
    "    'Цена':[99.9, 149.5, 199.0],\n",
    "    'Товар':['Barbie', 'Hotwheels','Dinosaurs'],\n",
    "    'В наличии':[True, False, True]\n",
    "})\n",
    "\n",
    "print(\"Наша таблица \\n\", df)\n",
    "print(\"выводим тип каждой колонки\\n\", df['Цена'].dtype, df['Товар'].dtype, df['В наличии'].dtype)\n"
   ]
  },
  {
   "cell_type": "code",
   "execution_count": 9,
   "id": "0f561d48-d3c6-4d39-9544-d039012630bc",
   "metadata": {},
   "outputs": [
    {
     "name": "stdout",
     "output_type": "stream",
     "text": [
      "Series 0    18\n",
      "1    20\n",
      "2    21\n",
      "3    19\n",
      "Name: Температура, dtype: int64\n",
      "индекс RangeIndex(start=0, stop=4, step=1)\n",
      "значение [18 20 21 19]\n",
      "длина (4,)\n",
      "тип данных int64\n"
     ]
    }
   ],
   "source": [
    "# Сделайте объект Series с данными температур [18, 20, 21, 19],\n",
    "# дайте ему имя \"Температура\".\n",
    "# Выведите Series, его индекс, значения, длину и тип данных.\n",
    "import pandas as pd\n",
    "sr=pd.Series([18, 20, 21, 19], name='Температура')\n",
    "print(\"Series\", sr)\n",
    "print(\"индекс\", sr.index)\n",
    "print(\"значение\", sr.values)\n",
    "print(\"длина\", sr.shape)\n",
    "print(\"тип данных\", sr.dtype)\n",
    "\n",
    "# используйте pd.Series, свойства .index, .values, .dtype, а также len()"
   ]
  },
  {
   "cell_type": "code",
   "execution_count": 26,
   "id": "fed55018-fbf2-4ad1-8137-fe5e70557fa2",
   "metadata": {},
   "outputs": [
    {
     "name": "stdout",
     "output_type": "stream",
     "text": [
      "Исходный столбик:\n",
      "               City\n",
      "0           moscow\n",
      "1   SPb           \n",
      "2           kaZAN \n",
      "Очищенный столбик:\n",
      "      City\n",
      "0  Moscow\n",
      "1     Spb\n",
      "2   Kazan\n"
     ]
    }
   ],
   "source": [
    "# Сделайте DataFrame с колонкой \"City\" со строками [\"  moscow\", \"SPb  \", \"kaZAN \"].\n",
    "# Очистите данные: уберите пробелы по краям и приведите строки к виду \"С Заглавной буквы\".\n",
    "# Выведите исходный и очищенный столбец.\n",
    "import pandas as pd\n",
    "df=pd.DataFrame({\n",
    "    \"City\":[\"      moscow\", \" SPb           \", \"kaZAN \"]\n",
    "})\n",
    "print(\"Исходный столбик:\\n\", df)\n",
    "\n",
    "df[\"City\"]=df[\"City\"].str.title()\n",
    "\n",
    "df[\"City\"]=df[\"City\"].str.strip()\n",
    "\n",
    "print(\"Очищенный столбик:\\n\", df)\n",
    "\n",
    "\n",
    "# используйте строковые методы .str.strip() и .str.title()"
   ]
  },
  {
   "cell_type": "code",
   "execution_count": null,
   "id": "b5ac5a3e-d943-46c7-b71e-3b5c25d91397",
   "metadata": {},
   "outputs": [],
   "source": [
    "# Сделайте DataFrame с колонкой \"Score\" со значениями [85, 90, 95].\n",
    "# 1) Преобразуйте значения в строки вида \"score_85\", \"score_90\", ...\n",
    "# 2) Из полученных строк извлеките обратно числа и приведите их к int в отдельной колонке.\n",
    "import \n",
    "\n",
    "# используйте .astype(str) + конкатенацию, \n",
    "#            для извлечения — .str.extract(r'(\\d+)') или .str.replace() + .astype(int)"
   ]
  }
 ],
 "metadata": {
  "kernelspec": {
   "display_name": "Python 3 (ipykernel)",
   "language": "python",
   "name": "python3"
  },
  "language_info": {
   "codemirror_mode": {
    "name": "ipython",
    "version": 3
   },
   "file_extension": ".py",
   "mimetype": "text/x-python",
   "name": "python",
   "nbconvert_exporter": "python",
   "pygments_lexer": "ipython3",
   "version": "3.12.4"
  }
 },
 "nbformat": 4,
 "nbformat_minor": 5
}
