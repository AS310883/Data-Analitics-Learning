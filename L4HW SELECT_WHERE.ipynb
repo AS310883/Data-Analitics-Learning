{
  "nbformat": 4,
  "nbformat_minor": 0,
  "metadata": {
    "colab": {
      "provenance": []
    },
    "kernelspec": {
      "name": "python3",
      "display_name": "Python 3"
    },
    "language_info": {
      "name": "python"
    }
  },
  "cells": [
    {
      "cell_type": "code",
      "execution_count": 28,
      "metadata": {
        "colab": {
          "base_uri": "https://localhost:8080/"
        },
        "id": "-c2nhGi_zVv4",
        "outputId": "ee1844b3-a321-48e7-c777-a409f8bd70f0"
      },
      "outputs": [
        {
          "output_type": "stream",
          "name": "stdout",
          "text": [
            "Employee Name:John, Salary:50000.0\n",
            "Employee Name:Emma, Salary:70000.0\n"
          ]
        }
      ],
      "source": [
        "import sqlite3\n",
        "# создаем базу данных и добавляем таблицу\n",
        "conn=sqlite3.connect (':memory:')\n",
        "cursor= conn.cursor()\n",
        "#создаем таблицу Employeers\n",
        "cursor.execute('''\n",
        "CREATE TABLE IF NOT EXISTS Employeers(\n",
        "  employee_id INTEGER,\n",
        "  first_name TEXT NOT NULL,\n",
        "  salary REAL NOT NULL,\n",
        "  department TEXT NOT NULL\n",
        ")''')\n",
        "\n",
        "#вставляем синтетические данные\n",
        "employees_data = [\n",
        "    (1,'John', 50000,'IT'),\n",
        "    (2,'Alice', 60000, 'Sales'),\n",
        "    (3, 'Bob', 55000, 'Marketing'),\n",
        "    (4,'Emma', 70000,'IT')\n",
        "]\n",
        "cursor.executemany ('INSERT INTO Employeers VALUES( ?, ?, ?, ?)', employees_data)\n",
        "\n",
        "\n",
        "# выполняем запрос\n",
        "cursor.execute('SELECT first_name, salary FROM Employeers WHERE department = ?', ('IT',) )\n",
        "rows=cursor.fetchall()\n",
        "\n",
        "# выводим результат\n",
        "for row in rows:\n",
        "    print(f\"Employee Name:{row[0]}, Salary:{row[1]}\")\n",
        "# закрываем соединение\n",
        "conn.close()"
      ]
    },
    {
      "cell_type": "markdown",
      "source": [
        "Выведите имена и зарплату сотрудников отдела IT."
      ],
      "metadata": {
        "id": "ahUPGo8dAo5g"
      }
    }
  ]
}