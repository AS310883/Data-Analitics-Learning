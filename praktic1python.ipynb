{
  "nbformat": 4,
  "nbformat_minor": 0,
  "metadata": {
    "colab": {
      "provenance": []
    },
    "kernelspec": {
      "name": "python3",
      "display_name": "Python 3"
    },
    "language_info": {
      "name": "python"
    }
  },
  "cells": [
    {
      "cell_type": "markdown",
      "source": [
        "## ВВедение в анализ данных"
      ],
      "metadata": {
        "id": "qaQu8LrO_SK3"
      }
    },
    {
      "cell_type": "markdown",
      "source": [
        "##Понимание структуры данных\n",
        "\n",
        "Имеется список [12, 34, 56, 78]. Необходимо:\n",
        "\n",
        "Вывести второй элемент списка. Изменить третий элемент списка на 100. Вывести измененный список."
      ],
      "metadata": {
        "id": "6JGaTXqf_iac"
      }
    },
    {
      "cell_type": "code",
      "source": [
        "# Создаем список\n",
        "\n",
        "list=[12,34,56,78]\n",
        "\n",
        "# Выводим второй элемент (индексация начинается с 0)\n",
        "\n",
        "print(\"Second element:\", list[1])\n",
        "# Изменяем третий элемент на 100\n",
        "list[2]=100\n",
        "\n",
        "# Выводим измененный список\n",
        "print(\"New list\",list)\n",
        "\n",
        "\n"
      ],
      "metadata": {
        "colab": {
          "base_uri": "https://localhost:8080/"
        },
        "id": "m_GvZ-tL_mET",
        "outputId": "86059b2a-cd0f-4c6d-fcb4-681eb262425f"
      },
      "execution_count": 2,
      "outputs": [
        {
          "output_type": "stream",
          "name": "stdout",
          "text": [
            "Second element: 34\n",
            "New list [12, 34, 100, 78]\n"
          ]
        }
      ]
    },
    {
      "cell_type": "markdown",
      "source": [
        "##Простая операция ввода-вывода\n",
        "\n",
        "Попросите пользователя ввести его имя и возраст, а затем выведите эти данные в форматированной строке."
      ],
      "metadata": {
        "id": "YN2FIWmWAduR"
      }
    },
    {
      "cell_type": "code",
      "source": [
        "# Получаем имя и возраст от пользователя\n",
        "# напишите здесь Ваш код ...\n",
        "name=input(\"Write your name\")\n",
        "age=input(\"How old are you?\")\n",
        "\n",
        "# Выводим информацию\n",
        "# напишите здесь Ваш код ...\n",
        "print(f\"Hi,{name} ! You are {age} ! :)\")"
      ],
      "metadata": {
        "colab": {
          "base_uri": "https://localhost:8080/"
        },
        "id": "3hqGtyz2AsUa",
        "outputId": "755c6cf6-e87a-4288-bf18-51fb7c062c6f"
      },
      "execution_count": 7,
      "outputs": [
        {
          "output_type": "stream",
          "name": "stdout",
          "text": [
            "Write your nameAlex\n",
            "How old are you? 6\n",
            "Hi,Alex ! You are  6 ! :)\n"
          ]
        }
      ]
    },
    {
      "cell_type": "markdown",
      "source": [
        "## Работа с переменными и простые вычисления\n",
        "\n",
        "Запросите у пользователя два числа. Вычислите их сумму и произведение, а затем выведите результаты."
      ],
      "metadata": {
        "id": "vsXwO-GlCn4i"
      }
    },
    {
      "cell_type": "code",
      "source": [
        "# Запрашиваем два числа\n",
        "# напишите здесь Ваш код ...\n",
        "number1=float(input(\"Please, write first number:\"))\n",
        "number2=float(input(\"Please, write second number:\"))\n",
        "\n",
        "\n",
        "# Вычисляем сумму и произведение\n",
        "# напишите здесь Ваш код ...\n",
        "sum=number1+number2\n",
        "mult = number1*number2\n",
        "\n",
        "# Выводим результаты\n",
        "# напишите здесь Ваш код ...\n",
        "print(f\"amount:{sum} multiplication: {mult}\")"
      ],
      "metadata": {
        "colab": {
          "base_uri": "https://localhost:8080/"
        },
        "id": "jykQWxSRC1-p",
        "outputId": "1eb07f62-cc5a-4dc6-9af5-40b4b687e14c"
      },
      "execution_count": 10,
      "outputs": [
        {
          "output_type": "stream",
          "name": "stdout",
          "text": [
            "Please, write first number:3\n",
            "Please, write second number:2\n",
            "amount:5.0 multiplication: 6.0\n"
          ]
        }
      ]
    },
    {
      "cell_type": "markdown",
      "source": [
        "## Использование условных операторов\n",
        "\n",
        "Напишите программу, которая определяет, является ли число, введенное пользователем, четным или нечетным."
      ],
      "metadata": {
        "id": "3aOOFBbvE76V"
      }
    },
    {
      "cell_type": "code",
      "source": [
        "# Запрашиваем число у пользователя\n",
        "# напишите здесь Ваш код ...\n",
        "number=int(input(\"Please write a number:\"))\n",
        "\n",
        "\n",
        "# Определяем четность числа\n",
        "# напишите здесь Ваш код ...\n",
        "\n",
        "if number%2==0:\n",
        "   print(\"It's an even number {number}\")\n",
        "else:\n",
        "  print(\"It's an odd number {number}\")\n"
      ],
      "metadata": {
        "colab": {
          "base_uri": "https://localhost:8080/"
        },
        "id": "p3UYbzcrFBQw",
        "outputId": "060d57c8-dd8c-42ee-f796-20238824c039"
      },
      "execution_count": 14,
      "outputs": [
        {
          "output_type": "stream",
          "name": "stdout",
          "text": [
            "Please write a number:55\n",
            "It's an odd number {number}\n"
          ]
        }
      ]
    },
    {
      "cell_type": "markdown",
      "source": [
        "###типы данных и операции для анализа данных\n",
        "\n",
        "##Работа с различными типами данных\n",
        "\n",
        "Создайте переменные разных типов данных (число, строка, список) и выполните с ними следующие действия:\n",
        "\n",
        "Умножьте число на 2. Добавьте к строке еще одну строку. Добавьте новый элемент в список."
      ],
      "metadata": {
        "id": "wEmXKgteG4ch"
      }
    },
    {
      "cell_type": "code",
      "source": [
        "# Создаем переменные\n",
        "# напишите здесь Ваш код ...\n",
        "number=111\n",
        "string=\"Hi!\"\n",
        "list1=[1,2,3]\n",
        "# Умножаем число на 2\n",
        "# напишите здесь Ваш код ...\n",
        "number*=2\n",
        "\n",
        "# Добавляем к строке\n",
        "# напишите здесь Ваш код ...\n",
        "string+=\"I try to do my homework.\"\n",
        "# Добавляем элемент в список\n",
        "# напишите здесь Ваш код ...\n",
        "list1.append(4)\n",
        "\n",
        "# Выводим результаты\n",
        "# напишите здесь Ваш код ...\n",
        "\n",
        "print(number, string, list1)"
      ],
      "metadata": {
        "colab": {
          "base_uri": "https://localhost:8080/"
        },
        "id": "_xXO2mvAHUas",
        "outputId": "e1de1092-9222-4c8c-d350-6e8e777be21b"
      },
      "execution_count": 18,
      "outputs": [
        {
          "output_type": "stream",
          "name": "stdout",
          "text": [
            "222 Hi!I try to do my homework. [1, 2, 3, 4]\n"
          ]
        }
      ]
    },
    {
      "cell_type": "markdown",
      "source": [
        "##Использование математических операторов\n",
        "\n",
        "Вычислите результат следующих операций для чисел 10 и 3: сложение, вычитание, умножение, деление, целочисленное деление, остаток от деления, возведение в степень."
      ],
      "metadata": {
        "id": "ehjZfFomKMDV"
      }
    },
    {
      "cell_type": "code",
      "source": [
        "# Определяем числа\n",
        "# напишите здесь Ваш код ...\n",
        "number1=10\n",
        "number2=3\n",
        "# Выполняем операции\n",
        "# напишите здесь Ваш код ...\n",
        "sum=number1+number2\n",
        "minus=number1-number2\n",
        "multiplication=number1*number2\n",
        "division=number1/number2\n",
        "integer=number1//number2\n",
        "remainder=number1%number2\n",
        "exponentiation=number1**number2\n",
        "\n",
        "# Выводим результаты\n",
        "# напишите здесь Ваш код ...\n",
        "print(f\"Суммв:{sum}\")\n",
        "print(f\"разность:{minus}\")\n",
        "print(f\"умножение: {multiplication}\")\n",
        "print(f\"деление: {division}\")\n",
        "print(f\"целочисленное деление: {integer}\")\n",
        "print(f\"остаток от деления: {remainder}\")\n",
        "print(f\"возведение в степень: {exponentiation}\")"
      ],
      "metadata": {
        "colab": {
          "base_uri": "https://localhost:8080/"
        },
        "id": "6IMAD9_ZKQPD",
        "outputId": "16826d72-aa3c-4332-ec5c-4bc9e16c590d"
      },
      "execution_count": 26,
      "outputs": [
        {
          "output_type": "stream",
          "name": "stdout",
          "text": [
            "Суммв:13\n",
            "разность:7\n",
            "умножение: 30\n",
            "деление: 3.3333333333333335\n",
            "целочисленное деление: 3\n",
            "остаток от деления: 1\n",
            "возведение в степень: 1000\n"
          ]
        }
      ]
    },
    {
      "cell_type": "markdown",
      "source": [
        "##Работа с типами данных в Pandas\n",
        "\n",
        "Создайте DataFrame в Pandas, содержащий три колонки: числа, строки и логические значения. Выведите типы данных колонок.\n",
        "\n"
      ],
      "metadata": {
        "id": "YBhyxQp0PF55"
      }
    },
    {
      "cell_type": "code",
      "source": [
        "import pandas as pd\n",
        "\n",
        "# Создаем DataFrame\n",
        "# напишите здесь Ваш код ...\n",
        "df=pd.DataFrame({\n",
        "    \"numbers\":[1,2,3],\n",
        "    \"strings\":['one','two','three'],\n",
        "    \"Logic_values\":[True,False,True]\n",
        "})\n",
        "# Выводим типы данных колонок\n",
        "# напишите здесь Ваш код ...\n",
        "print(df.dtypes)"
      ],
      "metadata": {
        "colab": {
          "base_uri": "https://localhost:8080/"
        },
        "id": "lHrum0IqPPDf",
        "outputId": "c8b8732a-cb23-4595-ffc1-08afd733e22f"
      },
      "execution_count": 32,
      "outputs": [
        {
          "output_type": "stream",
          "name": "stdout",
          "text": [
            "numbers          int64\n",
            "strings         object\n",
            "Logic_values      bool\n",
            "dtype: object\n"
          ]
        }
      ]
    },
    {
      "cell_type": "markdown",
      "source": [
        "##Изучение операторов для работы с последовательностями\n",
        "\n",
        "Дан список [1, 2, 3, 4, 5]. Используйте срезы для выполнения следующих действий:\n",
        "\n",
        "Выведите первые три элемента списка. Выведите список в обратном порядке. Выведите каждый второй элемент списка.\n",
        "\n"
      ],
      "metadata": {
        "id": "Qc0ItbzWRoEV"
      }
    },
    {
      "cell_type": "code",
      "source": [
        "# Создаем список\n",
        "# напишите здесь Ваш код ...\n",
        "list1=[1,2,3,4,5]\n",
        "# Выводим первые три элемента\n",
        "# напишите здесь Ваш код ...\n",
        "print(\"выводим первые три элемента:\",list1[:3])\n",
        "# Выводим список в обратном порядке\n",
        "# напишите здесь Ваш код ...\n",
        "print(\"Выведите список в обратном порядке.\", list1[::-1])\n",
        "\n",
        "# Выводим каждый второй элемент\n",
        "# напишите здесь Ваш код ...\n",
        "print(\"Выведите каждый второй элемент списка.\", list1[::2])"
      ],
      "metadata": {
        "colab": {
          "base_uri": "https://localhost:8080/"
        },
        "id": "IFyTOJlAR1yt",
        "outputId": "9c93842e-2d3f-427c-8d6d-9f96ec543824"
      },
      "execution_count": 33,
      "outputs": [
        {
          "output_type": "stream",
          "name": "stdout",
          "text": [
            "выводим первые три элемента: [1, 2, 3]\n",
            "Выведите список в обратном порядке. [5, 4, 3, 2, 1]\n",
            "Выведите каждый второй элемент списка. [1, 3, 5]\n"
          ]
        }
      ]
    },
    {
      "cell_type": "markdown",
      "source": [
        "##Использование условных операторов в анализе данных\n",
        "\n",
        "Напишите программу, которая определяет, является ли введенное число положительным, отрицательным или нулем.\n",
        "\n"
      ],
      "metadata": {
        "id": "D4oaLT7ATapS"
      }
    },
    {
      "cell_type": "code",
      "source": [
        "# Запрашиваем число у пользователя\n",
        "# напишите здесь Ваш код ...\n",
        "number=float(input(\"Please, enter a number.\"))\n",
        "\n",
        "\n",
        "# Проверяем, является ли число положительным, отрицательным или равным нулю\n",
        "# напишите здесь Ваш код ...\n",
        "if number>0:\n",
        "  print(f\"число {number} положительное\")\n",
        "elif number<0:\n",
        "  print(f\"число {number} отрицвтельное\")\n",
        "else :\n",
        "  print(f\"это нолик {number} \")"
      ],
      "metadata": {
        "colab": {
          "base_uri": "https://localhost:8080/"
        },
        "id": "UwfiIwe4Tf39",
        "outputId": "3bd66234-bb0e-4965-9597-b9bf53666f2f"
      },
      "execution_count": 43,
      "outputs": [
        {
          "output_type": "stream",
          "name": "stdout",
          "text": [
            "Please, enter a number.0\n",
            "это нолик 0.0 \n"
          ]
        }
      ]
    },
    {
      "cell_type": "markdown",
      "source": [
        "##Создание и использование функций\n",
        "\n",
        "Напишите функцию calculate_area, которая принимает радиус круга и возвращает его площадь.\n"
      ],
      "metadata": {
        "id": "7ESMLIwpWCEX"
      }
    },
    {
      "cell_type": "code",
      "source": [
        "\n",
        "import math\n",
        "\n",
        "# Определяем функцию для расчета площади круга\n",
        "def calculate_area(radius):\n",
        "    return math.pi * radius ** 2\n",
        "\n",
        "# Тестируем функцию\n",
        "radius = float(input(\"Введите радиус круга: \"))\n",
        "area = calculate_area(radius)\n",
        "print(\"Площадь круга:\", area)\n"
      ],
      "metadata": {
        "colab": {
          "base_uri": "https://localhost:8080/"
        },
        "id": "qvXulCffWIMy",
        "outputId": "de2a6b1b-75e7-4bf5-c10e-7477097411a4"
      },
      "execution_count": 44,
      "outputs": [
        {
          "output_type": "stream",
          "name": "stdout",
          "text": [
            "Введите радиус круга: 543\n",
            "Площадь круга: 926295.4523182969\n"
          ]
        }
      ]
    },
    {
      "cell_type": "markdown",
      "source": [
        "##Вложенные условные операторы\n",
        "\n",
        "Напишите программу, которая классифицирует возраст человека как \"ребенок\", \"подросток\", \"взрослый\" или \"пожилой\", исходя из введенного возраста.\n"
      ],
      "metadata": {
        "id": "dj4uItjHWUva"
      }
    },
    {
      "cell_type": "code",
      "source": [
        "\n",
        "# Запрашиваем возраст\n",
        "age = int(input(\"Введите ваш возраст: \"))\n",
        "\n",
        "# Классифицируем возраст\n",
        "if age < 13:\n",
        "    print(\"Ребенок\")\n",
        "elif age < 18:\n",
        "    print(\"Подросток\")\n",
        "elif age < 65:\n",
        "    print(\"Взрослый\")\n",
        "else:\n",
        "    print(\"Пожилой\")\n"
      ],
      "metadata": {
        "colab": {
          "base_uri": "https://localhost:8080/"
        },
        "id": "ZvYxKNZcWZ1r",
        "outputId": "1ab8e684-dc4f-40ad-d9c8-210f9f1bff36"
      },
      "execution_count": 45,
      "outputs": [
        {
          "output_type": "stream",
          "name": "stdout",
          "text": [
            "Введите ваш возраст: 42\n",
            "Взрослый\n"
          ]
        }
      ]
    },
    {
      "cell_type": "markdown",
      "source": [
        "##Использование циклов для анализа данных\n",
        "\n",
        "Напишите программу, которая выводит квадраты чисел от 1 до 10 с использованием цикла for."
      ],
      "metadata": {
        "id": "OZ6xG9wGWzAD"
      }
    },
    {
      "cell_type": "code",
      "source": [
        "# Используем цикл for для вывода квадратов чисел от 1 до 10\n",
        "for number in range(1, 11):\n",
        "    print(f\"Квадрат числа {number} равен {number**2}\")\n",
        ""
      ],
      "metadata": {
        "colab": {
          "base_uri": "https://localhost:8080/"
        },
        "id": "da0FGBrCW9i0",
        "outputId": "63f397c0-a3ad-4989-ad82-9e40d2da1eb8"
      },
      "execution_count": 46,
      "outputs": [
        {
          "output_type": "stream",
          "name": "stdout",
          "text": [
            "Квадрат числа 1 равен 1\n",
            "Квадрат числа 2 равен 4\n",
            "Квадрат числа 3 равен 9\n",
            "Квадрат числа 4 равен 16\n",
            "Квадрат числа 5 равен 25\n",
            "Квадрат числа 6 равен 36\n",
            "Квадрат числа 7 равен 49\n",
            "Квадрат числа 8 равен 64\n",
            "Квадрат числа 9 равен 81\n",
            "Квадрат числа 10 равен 100\n"
          ]
        }
      ]
    },
    {
      "cell_type": "markdown",
      "source": [
        "##Использование цикла for для обработки данных\n",
        "\n",
        "Создайте список из пяти чисел. Используйте цикл for, чтобы вывести каждое число, умноженное на 2.\n"
      ],
      "metadata": {
        "id": "RZI_5xFFXHU3"
      }
    },
    {
      "cell_type": "code",
      "source": [
        "# Создаем список чисел\n",
        "numbers = [1, 2, 3, 4, 5]\n",
        "\n",
        "# Используем цикл for для обработки и вывода каждого числа, умноженного на 2\n",
        "for number in numbers:\n",
        "    print(number * 2)"
      ],
      "metadata": {
        "colab": {
          "base_uri": "https://localhost:8080/"
        },
        "id": "6LawA5jlXPE9",
        "outputId": "2c78b9d5-d499-4388-f055-421da5bce994"
      },
      "execution_count": 47,
      "outputs": [
        {
          "output_type": "stream",
          "name": "stdout",
          "text": [
            "2\n",
            "4\n",
            "6\n",
            "8\n",
            "10\n"
          ]
        }
      ]
    },
    {
      "cell_type": "markdown",
      "source": [
        "##Применение цикла while\n",
        "\n",
        "Напишите программу, использующую цикл while, которая считает от 10 до 1, а затем выводит \"Старт!\".\n",
        "\n"
      ],
      "metadata": {
        "id": "cJ4ajSPdXXwK"
      }
    },
    {
      "cell_type": "code",
      "source": [
        "# Начальное значение счетчика\n",
        "count = 10\n",
        "\n",
        "# Используем цикл while для обратного отсчета\n",
        "while count > 0:\n",
        "    print(count)\n",
        "    count -= 1\n",
        "\n",
        "print(\"Старт!\")"
      ],
      "metadata": {
        "colab": {
          "base_uri": "https://localhost:8080/"
        },
        "id": "6cRqjmp1Xc17",
        "outputId": "37eda0cd-3252-492c-8ea9-66dc46e90c82"
      },
      "execution_count": 48,
      "outputs": [
        {
          "output_type": "stream",
          "name": "stdout",
          "text": [
            "10\n",
            "9\n",
            "8\n",
            "7\n",
            "6\n",
            "5\n",
            "4\n",
            "3\n",
            "2\n",
            "1\n",
            "Старт!\n"
          ]
        }
      ]
    },
    {
      "cell_type": "markdown",
      "source": [
        "##Преобразование цикла for в while\n",
        "\n",
        "У вас есть следующий цикл for:\n",
        "\n",
        "for i in range(5):\n",
        "    print(i)\n",
        "Преобразуйте его в цикл while, выполняющий ту же функцию."
      ],
      "metadata": {
        "id": "0xAJv7_2Xps1"
      }
    },
    {
      "cell_type": "code",
      "source": [
        "# Начальное значение счетчика\n",
        "i = 0\n",
        "\n",
        "# Используем цикл while для имитации цикла for\n",
        "while i < 5:\n",
        "    print(i)\n",
        "    i += 1"
      ],
      "metadata": {
        "colab": {
          "base_uri": "https://localhost:8080/"
        },
        "id": "ggA3rQwnXvpz",
        "outputId": "ce24a420-f9dc-4b40-98d1-a6f88d54db1a"
      },
      "execution_count": 49,
      "outputs": [
        {
          "output_type": "stream",
          "name": "stdout",
          "text": [
            "0\n",
            "1\n",
            "2\n",
            "3\n",
            "4\n"
          ]
        }
      ]
    },
    {
      "cell_type": "markdown",
      "source": [
        "##Использование вложенных циклов\n",
        "\n",
        "Создайте вложенные циклы, где внешний цикл перебирает числа от 1 до 3, а внутренний цикл перебирает числа от 1 до 2. Выведите все комбинации этих чисел."
      ],
      "metadata": {
        "id": "GABVdd9_YAFn"
      }
    },
    {
      "cell_type": "code",
      "source": [
        "# Внешний цикл\n",
        "for i in range(1, 4):\n",
        "    # Внутренний цикл\n",
        "    for j in range(1, 3):\n",
        "        print(f\"Комбинация: ({i}, {j})\")"
      ],
      "metadata": {
        "colab": {
          "base_uri": "https://localhost:8080/"
        },
        "id": "UtBKF8U0YEzP",
        "outputId": "4f020569-0e44-4404-9d84-0c5fb01b2c12"
      },
      "execution_count": 50,
      "outputs": [
        {
          "output_type": "stream",
          "name": "stdout",
          "text": [
            "Комбинация: (1, 1)\n",
            "Комбинация: (1, 2)\n",
            "Комбинация: (2, 1)\n",
            "Комбинация: (2, 2)\n",
            "Комбинация: (3, 1)\n",
            "Комбинация: (3, 2)\n"
          ]
        }
      ]
    },
    {
      "cell_type": "markdown",
      "source": [
        "##Применение методов обработки строк в Pandas\n",
        "\n",
        "Дан DataFrame df, содержащий колонку 'Name' со значениями: [\"alice\", \"BOB\", \"Charlie\"]. Преобразуйте все строки в этой колонке к нижнему регистру.\n"
      ],
      "metadata": {
        "id": "nSeyUmV0YNMI"
      }
    },
    {
      "cell_type": "code",
      "source": [
        "\n",
        "import pandas as pd\n",
        "\n",
        "# Создаем DataFrame\n",
        "df = pd.DataFrame({'Name': [\"alice\", \"BOB\", \"Charlie\"]})\n",
        "\n",
        "# Преобразуем все строки в колонке 'Name' к нижнему регистру\n",
        "df['Name'] = df['Name'].str.lower()\n",
        "\n",
        "# Выводим результат\n",
        "print(df)"
      ],
      "metadata": {
        "colab": {
          "base_uri": "https://localhost:8080/"
        },
        "id": "TTZ0WHqyYXL-",
        "outputId": "54f72d7a-b78c-434d-9b34-f4ff7fc56e94"
      },
      "execution_count": 59,
      "outputs": [
        {
          "output_type": "stream",
          "name": "stdout",
          "text": [
            "      Name\n",
            "0    alice\n",
            "1      bob\n",
            "2  charlie\n"
          ]
        }
      ]
    },
    {
      "cell_type": "markdown",
      "source": [
        "##Преобразование данных из чисел в строки и обратно в Pandas\n",
        "\n",
        "В DataFrame df с колонкой 'Age' с числовыми значениями, преобразуйте значения этой колонки в строки. Затем преобразуйте их обратно в числа.\n",
        "\n"
      ],
      "metadata": {
        "id": "AyKBTnElYYww"
      }
    },
    {
      "cell_type": "code",
      "source": [
        "import pandas as pd\n",
        "\n",
        "# Создаем DataFrame\n",
        "df = pd.DataFrame({'Age': [25, 30, 35]})\n",
        "\n",
        "# Преобразуем числа в строки\n",
        "df['Age'] = df['Age'].astype(str)\n",
        "\n",
        "# Преобразуем строки обратно в числа\n",
        "df['Age'] = df['Age'].astype(int)\n",
        "\n",
        "# Выводим результат\n",
        "print(df)"
      ],
      "metadata": {
        "id": "2DhP2Gx0YiJT"
      },
      "execution_count": null,
      "outputs": []
    },
    {
      "cell_type": "markdown",
      "source": [
        "##Использование регулярных выражений для фильтрации данных\n",
        "\n",
        "Дан DataFrame df с колонкой 'Email'. Отфильтруйте строки, содержащие адреса электронной почты, заканчивающиеся на \".com\".\n"
      ],
      "metadata": {
        "id": "W0SW2S5_YjE5"
      }
    },
    {
      "cell_type": "code",
      "source": [
        "\n",
        "import pandas as pd\n",
        "\n",
        "# Создаем DataFrame\n",
        "df = pd.DataFrame({'Email': [\"user1@example.com\", \"user2@example.org\", \"user3@example.com\"]})\n",
        "\n",
        "# Фильтруем строки, содержащие электронные адреса, заканчивающиеся на \".com\"\n",
        "df_filtered = df[df['Email'].str.contains('.com$', regex=True)]\n",
        "\n",
        "# Выводим результат\n",
        "print(df_filtered)"
      ],
      "metadata": {
        "id": "arnuv07LYqHs"
      },
      "execution_count": null,
      "outputs": []
    },
    {
      "cell_type": "markdown",
      "source": [
        "\n",
        "##Извлечение данных из строк с помощью регулярных выражений\n",
        "\n",
        "В DataFrame df содержится колонка 'Info' со строками в формате \"Name: [Имя], Age: [Возраст]\". Извлеките имя и возраст в отдельные колонки.\n",
        "\n"
      ],
      "metadata": {
        "id": "eOc5tyKTYrNf"
      }
    },
    {
      "cell_type": "code",
      "source": [
        "import pandas as pd\n",
        "\n",
        "# Создаем DataFrame\n",
        "df = pd.DataFrame({'Info': [\"Name: Alice, Age: 30\", \"Name: Bob, Age: 25\", \"Name: Charlie, Age: 35\"]})\n",
        "\n",
        "# Извлекаем имя и возраст в отдельные колонки\n",
        "df[['Name', 'Age']] = df['Info'].str.extract('Name: (.+), Age: (\\d+)')\n",
        "\n",
        "# Выводим результат\n",
        "print(df)\n",
        ""
      ],
      "metadata": {
        "colab": {
          "base_uri": "https://localhost:8080/"
        },
        "id": "k-9CfXgwYykj",
        "outputId": "a408c8f1-d51f-43be-94a1-f358e93af009"
      },
      "execution_count": 60,
      "outputs": [
        {
          "output_type": "stream",
          "name": "stdout",
          "text": [
            "                     Info     Name Age\n",
            "0    Name: Alice, Age: 30    Alice  30\n",
            "1      Name: Bob, Age: 25      Bob  25\n",
            "2  Name: Charlie, Age: 35  Charlie  35\n"
          ]
        },
        {
          "output_type": "stream",
          "name": "stderr",
          "text": [
            "<>:7: SyntaxWarning: invalid escape sequence '\\d'\n",
            "<>:7: SyntaxWarning: invalid escape sequence '\\d'\n",
            "/tmp/ipython-input-2747085019.py:7: SyntaxWarning: invalid escape sequence '\\d'\n",
            "  df[['Name', 'Age']] = df['Info'].str.extract('Name: (.+), Age: (\\d+)')\n"
          ]
        }
      ]
    },
    {
      "cell_type": "markdown",
      "source": [
        "#Работа со списками и структурами данных в Pandas\n",
        "\n",
        "##Создание и базовая манипуляция с Series в Pandas\n",
        "\n",
        "Создайте объект Series в Pandas из списка чисел [10, 20, 30, 40, 50]. Затем добавьте к этому объекту Series число 60.\n",
        "\n"
      ],
      "metadata": {
        "id": "MR_xJ_ToY335"
      }
    },
    {
      "cell_type": "code",
      "source": [
        "import pandas as pd\n",
        "\n",
        "# Создаем объект Series из списка чисел\n",
        "numbers = pd.Series([10, 20, 30, 40, 50])\n",
        "\n",
        "# Добавляем число 60\n",
        "numbers = pd.concat([numbers, pd.Series([60])], ignore_index=True)\n",
        "\n",
        "# Выводим результат\n",
        "print(numbers)"
      ],
      "metadata": {
        "id": "ZsZ4O_YYZB3N"
      },
      "execution_count": null,
      "outputs": []
    },
    {
      "cell_type": "markdown",
      "source": [
        "##Работа с DataFrame в Pandas\n",
        "\n",
        "Создайте DataFrame в Pandas, содержащий две колонки: 'Name' и 'Age', с набором имен и возрастов соответственно. Добавьте к этому DataFrame новую строку.\n"
      ],
      "metadata": {
        "id": "8esxPq2tZCos"
      }
    },
    {
      "cell_type": "code",
      "source": [
        "\n",
        "import pandas as pd\n",
        "\n",
        "# Создаем DataFrame\n",
        "df = pd.DataFrame({'Name': ['Alice', 'Bob', 'Charlie'], 'Age': [25, 30, 35]})\n",
        "\n",
        "# Создаем DataFrame для новой строки\n",
        "new_row_df = pd.DataFrame([{'Name': 'David', 'Age': 40}])\n",
        "\n",
        "# Добавляем новую строку\n",
        "df = pd.concat([df, new_row_df], ignore_index=True)\n",
        "\n",
        "# Выводим результат\n",
        "print(df)"
      ],
      "metadata": {
        "id": "X_uj_s9GZLAH"
      },
      "execution_count": null,
      "outputs": []
    },
    {
      "cell_type": "markdown",
      "source": [
        "##Визуализация данных из Series в Pandas\n",
        "\n",
        "Используйте объект Series, содержащий некоторые числовые значения, для создания простого графика (например, линейного).\n",
        "\n"
      ],
      "metadata": {
        "id": "eJpbdhOwZMEk"
      }
    },
    {
      "cell_type": "code",
      "source": [
        "import pandas as pd\n",
        "import matplotlib.pyplot as plt\n",
        "\n",
        "# Создаем объект Series\n",
        "data = pd.Series([1, 3, 2, 4, 5])\n",
        "\n",
        "# Визуализируем данные\n",
        "data.plot(kind='line')\n",
        "plt.show()"
      ],
      "metadata": {
        "id": "XJOya7uAZUvP"
      },
      "execution_count": null,
      "outputs": []
    },
    {
      "cell_type": "markdown",
      "source": [
        "##Визуализация данных из DataFrame в Pandas\n",
        "\n",
        "Используйте DataFrame, содержащий две колонки числовых данных, для создания гистограммы.\n"
      ],
      "metadata": {
        "id": "6xIgyBhaZV82"
      }
    },
    {
      "cell_type": "code",
      "source": [
        "\n",
        "import pandas as pd\n",
        "import matplotlib.pyplot as plt\n",
        "\n",
        "# Создаем DataFrame\n",
        "df = pd.DataFrame({\n",
        "    'data1': [1, 2, 3, 4, 5],\n",
        "    'data2': [5, 4, 3, 2, 1]\n",
        "})\n",
        "\n",
        "# Визуализируем данные\n",
        "df.plot(kind='bar')\n",
        "plt.show()"
      ],
      "metadata": {
        "id": "iWtq8vC7Zdcy"
      },
      "execution_count": null,
      "outputs": []
    },
    {
      "cell_type": "markdown",
      "source": [
        "#Использование словарей и структур данных в Pandas\n",
        "\n",
        "##Создание и манипуляция со словарями в Python для анализа данных\n",
        "\n",
        "Создайте словарь, представляющий информацию о студенте: имя, возраст, курс. Затем добавьте в словарь информацию о его специальности.\n",
        "\n"
      ],
      "metadata": {
        "id": "deTEggY2ZejX"
      }
    },
    {
      "cell_type": "code",
      "source": [
        "# Создаем словарь с информацией о студенте\n",
        "student_info = {\n",
        "    'name': 'Alice',\n",
        "    'age': 22,\n",
        "    'course': 'Data Science'\n",
        "}\n",
        "\n",
        "# Добавляем специальность\n",
        "student_info['major'] = 'Computer Science'\n",
        "\n",
        "# Выводим обновленный словарь\n",
        "print(student_info)"
      ],
      "metadata": {
        "id": "8PngFuGVZprm"
      },
      "execution_count": null,
      "outputs": []
    },
    {
      "cell_type": "markdown",
      "source": [
        "##Преобразование словаря в DataFrame в Pandas\n",
        "\n",
        "Преобразуйте следующий словарь, содержащий данные о студентах, в DataFrame в Pandas:\n",
        "\n",
        "students_data = {\n",
        "    'Name': ['Alice', 'Bob', 'Charlie'],\n",
        "    'Age': [24, 27, 22],\n",
        "    'Major': ['Biology', 'Chemistry', 'Physics']\n",
        "}\n"
      ],
      "metadata": {
        "id": "8EAsqq8MZq5f"
      }
    },
    {
      "cell_type": "code",
      "source": [
        "import pandas as pd\n",
        "\n",
        "# Создаем словарь\n",
        "students_data = {\n",
        "    'Name': ['Alice', 'Bob', 'Charlie'],\n",
        "    'Age': [24, 27, 22],\n",
        "    'Major': ['Biology', 'Chemistry', 'Physics']\n",
        "}\n",
        "\n",
        "# Преобразуем словарь в DataFrame\n",
        "students_df = pd.DataFrame(students_data)\n",
        "\n",
        "# Выводим DataFrame\n",
        "print(students_df)"
      ],
      "metadata": {
        "id": "PD-6g5bXZwEQ"
      },
      "execution_count": null,
      "outputs": []
    },
    {
      "cell_type": "markdown",
      "source": [
        "##Работа со сложными структурами данных в Pandas\n",
        "\n",
        "Дан словарь с вложенными словарями, представляющими данные о продажах за разные месяцы. Преобразуйте его в DataFrame:\n",
        "\n",
        "sales_data = {\n",
        "    'January': {'Apples': 50, 'Oranges': 35},\n",
        "    'February': {'Apples': 40, 'Oranges': 30}\n",
        "}"
      ],
      "metadata": {
        "id": "1VIReRzDZ1CL"
      }
    },
    {
      "cell_type": "code",
      "source": [
        "import pandas as pd\n",
        "\n",
        "# Создаем словарь с данными о продажах\n",
        "sales_data = {\n",
        "    'January': {'Apples': 50, 'Oranges': 35},\n",
        "    'February': {'Apples': 40, 'Oranges': 30}\n",
        "}\n",
        "\n",
        "# Преобразуем словарь в DataFrame\n",
        "sales_df = pd.DataFrame(sales_data)\n",
        "\n",
        "# Выводим DataFrame\n",
        "print(sales_df)"
      ],
      "metadata": {
        "id": "K-iu8SuOZ8hF"
      },
      "execution_count": null,
      "outputs": []
    },
    {
      "cell_type": "markdown",
      "source": [
        "##Агрегирование данных в DataFrame из словаря\n",
        "\n",
        "Формулировка задачи: Используя DataFrame, созданный из словаря продаж (из предыдущей задачи), рассчитайте общее количество продаж фруктов за каждый меся\n"
      ],
      "metadata": {
        "id": "U7v0AYdraAnm"
      }
    },
    {
      "cell_type": "code",
      "source": [
        "\n",
        "import pandas as pd\n",
        "\n",
        "# Создаем DataFrame из словаря продаж\n",
        "sales_data = {\n",
        "    'January': {'Apples': 50, 'Oranges': 35},\n",
        "    'February': {'Apples': 40, 'Oranges': 30}\n",
        "}\n",
        "sales_df = pd.DataFrame(sales_data)\n",
        "\n",
        "# Рассчитываем общее количество продаж за каждый месяц\n",
        "total_sales = sales_df.sum()\n",
        "\n",
        "# Выводим результат\n",
        "print(total_sales)"
      ],
      "metadata": {
        "id": "DxdXSxCuaFT4"
      },
      "execution_count": null,
      "outputs": []
    },
    {
      "cell_type": "markdown",
      "source": [
        "#Работа с файлами для анализа данных\n",
        "\n",
        "##Чтение и запись текстового файла в Python\n",
        "\n",
        "Создайте текстовый файл и запишите в него несколько строк. Затем прочитайте файл и выведите его содержимое на экран.\n"
      ],
      "metadata": {
        "id": "OuXYmqnkaGIw"
      }
    },
    {
      "cell_type": "code",
      "source": [
        "\n",
        "# Записываем данные в файл\n",
        "with open('example.txt', 'w') as file:\n",
        "    file.write(\"Hello, World!\\n\")\n",
        "    file.write(\"This is a test file.\\n\")\n",
        "\n",
        "# Читаем данные из файла\n",
        "with open('example.txt', 'r') as file:\n",
        "    content = file.read()\n",
        "\n",
        "# Выводим содержимое файла\n",
        "print(content)"
      ],
      "metadata": {
        "id": "y5cy2ry8aOW_"
      },
      "execution_count": null,
      "outputs": []
    },
    {
      "cell_type": "markdown",
      "source": [
        "#Использование Pandas для чтения и записи CSV-файла\n",
        "\n",
        "Используйте Pandas для чтения данных из CSV-файла, а затем сохраните эти данные в новый CSV-файл.\n",
        "\n"
      ],
      "metadata": {
        "id": "dXnI4rY0aPW0"
      }
    },
    {
      "cell_type": "code",
      "source": [
        "\n",
        "import pandas as pd\n",
        "\n",
        "# Чтение данных из CSV-файла\n",
        "data = pd.read_csv('data.csv')\n",
        "\n",
        "# Выводим прочитанные данные\n",
        "print(data)\n",
        "\n",
        "# Сохраняем данные в новый CSV-файл\n",
        "data.to_csv('new_data.csv', index=False)"
      ],
      "metadata": {
        "id": "I96V2yYPaYF6"
      },
      "execution_count": null,
      "outputs": []
    },
    {
      "cell_type": "markdown",
      "source": [
        "##Чтение JSON-файла с Pandas\n",
        "\n",
        "Используйте Pandas для чтения данных из JSON-файла и выведите эти данные.\n"
      ],
      "metadata": {
        "id": "tfY9TL9zaZCV"
      }
    },
    {
      "cell_type": "code",
      "source": [
        "import pandas as pd\n",
        "\n",
        "# Чтение данных из JSON-файла\n",
        "data = pd.read_json('data.json')\n",
        "\n",
        "# Выводим прочитанные данные\n",
        "print(data)"
      ],
      "metadata": {
        "id": "uCOLBf4bahzx"
      },
      "execution_count": null,
      "outputs": []
    },
    {
      "cell_type": "markdown",
      "source": [
        "##Чтение Excel-файла с Pandas\n",
        "\n",
        "Используйте Pandas для чтения данных из Excel-файла (.xlsx) и выведите эти данные."
      ],
      "metadata": {
        "id": "GZeQjE5zak8S"
      }
    },
    {
      "cell_type": "code",
      "source": [
        "import pandas as pd\n",
        "\n",
        "# Чтение данных из Excel-файла\n",
        "data = pd.read_excel('data.xlsx')\n",
        "\n",
        "# Выводим прочитанные данные\n",
        "print(data)"
      ],
      "metadata": {
        "id": "nW3MLj4aapSM"
      },
      "execution_count": null,
      "outputs": []
    },
    {
      "cell_type": "code",
      "source": [
        "inc_count = \"2256\"\n",
        "print(type(inc_count))\n",
        "print(inc_count)\n",
        "inc_count = int(inc_count)\n",
        "print(type(inc_count))\n",
        "print(inc_count)\n"
      ],
      "metadata": {
        "colab": {
          "base_uri": "https://localhost:8080/"
        },
        "id": "k7xIHpz2llOD",
        "outputId": "35f1e084-6319-4790-9804-b3bcdf119cfc"
      },
      "execution_count": 58,
      "outputs": [
        {
          "output_type": "stream",
          "name": "stdout",
          "text": [
            "<class 'str'>\n",
            "2256\n",
            "<class 'int'>\n",
            "2256\n"
          ]
        }
      ]
    }
  ]
}