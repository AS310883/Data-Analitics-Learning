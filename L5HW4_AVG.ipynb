{
  "nbformat": 4,
  "nbformat_minor": 0,
  "metadata": {
    "colab": {
      "provenance": []
    },
    "kernelspec": {
      "name": "python3",
      "display_name": "Python 3"
    },
    "language_info": {
      "name": "python"
    }
  },
  "cells": [
    {
      "cell_type": "markdown",
      "source": [
        "## Задание №4: Обновление зарплаты сотрудника и группировка по отделам\n",
        "\n",
        "Создать таблицу сотрудников и департаментов, обновить зарплату конкретного сотрудника, вывести среднее значение зарплат по каждому департаменту.\n"
      ],
      "metadata": {
        "id": "ZxfSc4fC1e4p"
      }
    },
    {
      "cell_type": "code",
      "source": [
        "import sqlite3\n",
        "\n",
        "# Создаем временную базу данных\n",
        "conn = sqlite3.connect(':memory:')\n",
        "cur = conn.cursor()\n",
        "\n",
        "# Создаем таблицы\n",
        "cur.execute(\"\"\"\n",
        "CREATE TABLE Employees(\n",
        "    employee_id INT PRIMARY KEY,\n",
        "    name TEXT,\n",
        "    salary REAL,\n",
        "    department_id INT\n",
        ")\n",
        "\"\"\")\n",
        "\n",
        "cur.execute(\"\"\"\n",
        "CREATE TABLE Departments(\n",
        "    department_id INT PRIMARY KEY,\n",
        "    department_name TEXT\n",
        ")\n",
        "\"\"\")\n",
        "\n",
        "# Вставляем данные\n",
        "employees_data = [\n",
        "    (1, 'Игорь Кузнецов', 50000, 1),\n",
        "    (2, 'Светлана Петрова', 70000, 2),\n",
        "    (3, 'Дмитрий Сергеев', 60000, 1),\n",
        "    (4, 'Елена Иванова', 80000, 2)\n",
        "]\n",
        "departments_data = [\n",
        "    (1, 'Финансовый отдел'),\n",
        "    (2, 'Маркетинг')\n",
        "]\n",
        "\n",
        "cur.executemany(\"INSERT INTO Employees VALUES (?,?,?,?)\", employees_data)\n",
        "cur.executemany(\"INSERT INTO Departments VALUES (?,?)\", departments_data)\n",
        "\n",
        "# Повышаем зарплату сотруднику Дмитрий Сергееву на 10%\n",
        "cur.execute(\"UPDATE Employees SET salary = salary * 1.1 WHERE name='Дмитрий Сергеев'\")\n",
        "\n",
        "# Выбираем среднюю зарплату по каждому отделу\n",
        "cur.execute(\"\"\"\n",
        "SELECT Departments.department_name, AVG(Employees.salary)\n",
        "FROM Employees\n",
        "JOIN Departments ON Employees.department_id = Departments.department_id\n",
        "GROUP BY Departments.department_id\n",
        "\"\"\")\n",
        "\n",
        "# Выводим результат\n",
        "results = cur.fetchall()\n",
        "for row in results:\n",
        "    print(f'Средняя зарплата {row[0]} — {round(row[1], 2)} рублей.')\n",
        "\n",
        "# Закрываем соединение\n",
        "conn.close()"
      ],
      "metadata": {
        "colab": {
          "base_uri": "https://localhost:8080/"
        },
        "id": "NqJ-mCG6jGeR",
        "outputId": "27966744-42d3-471d-8aee-b56418481944"
      },
      "execution_count": 6,
      "outputs": [
        {
          "output_type": "stream",
          "name": "stdout",
          "text": [
            "Средняя зарплата Финансовый отдел — 58000.0 рублей.\n",
            "Средняя зарплата Маркетинг — 75000.0 рублей.\n"
          ]
        }
      ]
    }
  ]
}