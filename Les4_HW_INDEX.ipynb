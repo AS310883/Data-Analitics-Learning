{
  "nbformat": 4,
  "nbformat_minor": 0,
  "metadata": {
    "colab": {
      "provenance": []
    },
    "kernelspec": {
      "name": "python3",
      "display_name": "Python 3"
    },
    "language_info": {
      "name": "python"
    }
  },
  "cells": [
    {
      "cell_type": "markdown",
      "source": [
        "Объясните необходимость индексирования полей и создайте подходящий индекс для ускорения поиска клиентов по фамилии."
      ],
      "metadata": {
        "id": "VZ8T8IovpZkt"
      }
    },
    {
      "cell_type": "code",
      "source": [
        "import sqlite3\n",
        "\n",
        "# Создаем базу данных и добавляем таблицу\n",
        "conn = sqlite3.connect(':memory:')\n",
        "cursor = conn.cursor()\n",
        "\n",
        "# Создаем таблицу Customers\n",
        "cursor.execute('''\n",
        "CREATE TABLE Customers (\n",
        "customer_id INTEGER PRIMARY KEY,\n",
        "first_name TEXT NOT NULL,\n",
        "last_name TEXT NOT NULL,\n",
        "phone_number TEXT NOT NULL\n",
        ")\n",
        "''')\n",
        "\n",
        "# Индексируем поле last_name\n",
        "cursor.execute('CREATE INDEX idx_last_name ON Customers(last_name)')\n",
        "\n",
        "# Вставляем синтетические данные\n",
        "customers_data = [\n",
        "    (1, 'Alex', 'Smith', '123-456-7890'),\n",
        "    (2, 'Maria', 'Johnson', '987-654-3210'),\n",
        "    (3, 'David', 'Williams', '555-555-5555')\n",
        "]\n",
        "cursor.executemany('INSERT INTO Customers VALUES(?, ?, ?, ?)', customers_data)\n",
        "\n",
        "# Выполняем быстрый поиск благодаря индексу\n",
        "cursor.execute( 'SELECT * FROM Customers WHERE last_name = ?', ('Smith',))\n",
        "rows = cursor.fetchall()\n",
        "\n",
        "# Выводим результат\n",
        "for row in rows:\n",
        "    print(f\"Customer ID: {row[0]}, First Name: {row[1]}, Last Name: {row[2]}, Phone Number: {row[3]}\")\n",
        "\n",
        "# Закрываем соединение\n",
        "conn.close()"
      ],
      "metadata": {
        "colab": {
          "base_uri": "https://localhost:8080/"
        },
        "id": "dwXZX3VXpgcx",
        "outputId": "3bbd5379-5e28-4f88-dd66-9ab0a5d7b80f"
      },
      "execution_count": 3,
      "outputs": [
        {
          "output_type": "stream",
          "name": "stdout",
          "text": [
            "Customer ID: 1, First Name: Alex, Last Name: Smith, Phone Number: 123-456-7890\n"
          ]
        }
      ]
    }
  ]
}