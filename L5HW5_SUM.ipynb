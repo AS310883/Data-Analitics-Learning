{
  "nbformat": 4,
  "nbformat_minor": 0,
  "metadata": {
    "colab": {
      "provenance": []
    },
    "kernelspec": {
      "name": "python3",
      "display_name": "Python 3"
    },
    "language_info": {
      "name": "python"
    }
  },
  "cells": [
    {
      "cell_type": "markdown",
      "source": [
        "## Задание №5: Удаление сотрудника и получение итоговых сумм по отделам\n",
        "\n",
        "Создай две таблицы: сотрудники и отделы. Удали одного сотрудника и выведи общую сумму зарплат каждого отдела после удаления."
      ],
      "metadata": {
        "id": "4Di4p4Mb1kdA"
      }
    },
    {
      "cell_type": "code",
      "source": [],
      "metadata": {
        "id": "3d5W3OcJkGnt"
      },
      "execution_count": 1,
      "outputs": []
    },
    {
      "cell_type": "code",
      "source": [
        "import sqlite3\n",
        "\n",
        "# Создаем временную базу данных\n",
        "conn = sqlite3.connect(':memory:')\n",
        "cur = conn.cursor()\n",
        "\n",
        "# Создаем таблицы\n",
        "cur.execute(\"\"\"\n",
        "CREATE TABLE Employers(\n",
        "  id INT PRIMARY KEY,\n",
        "  name TEXT NOT NULL,\n",
        "  salary REAL NOT NULL,\n",
        "  department_id INT\n",
        "\n",
        ")\n",
        "\"\"\")\n",
        "\n",
        "cur.execute(\"\"\"\n",
        "CREATE TABLE Departments(\n",
        "  department_id INT PRIMARY KEY,\n",
        "  dep_name TEXT\n",
        ")\n",
        "\"\"\")\n",
        "\n",
        "# Вставляем данные\n",
        "employers_data = [\n",
        "    (1, 'Алексей Семенов', 50000, 1),\n",
        "    (2, 'Евгений Александров', 70000, 2),\n",
        "    (3, 'Владимир Новиков', 60000, 1),\n",
        "    (4, 'Дарья Андреева', 80000, 2)\n",
        "]\n",
        "departments_data = [\n",
        "    (1, 'HR-отдел'),\n",
        "    (2, 'Логистика')\n",
        "]\n",
        "\n",
        "cur.executemany('INSERT INTO Employers VALUES(?, ?, ?, ?)', employers_data)\n",
        "cur.executemany('INSERT INTO Departments VALUES(?, ?)', departments_data)\n",
        "\n",
        "# Удаляем сотрудника Евгения Александрова\n",
        "cur.execute(\"DELETE FROM Employers WHERE name='Евгений Александров'\")\n",
        "\n",
        "# Получаем итоговую сумму зарплат по каждому отделу\n",
        "cur.execute(\"\"\"\n",
        "SELECT Departments.dep_name, SUM(Employers.salary)\n",
        "FROM Employers\n",
        "JOIN Departments ON Employers.department_id=Departments.department_id\n",
        "GROUP BY Departments.department_id\n",
        "\"\"\")\n",
        "\n",
        "# Выводим результат\n",
        "results = cur.fetchall()\n",
        "for row in results:\n",
        "    print(f'Общая сумма зарплат в {row[0]} — {round(row[1], 2)} рублей.')\n",
        "\n",
        "# Закрываем соединение\n",
        "conn.close()"
      ],
      "metadata": {
        "id": "WeOWVufW3191",
        "colab": {
          "base_uri": "https://localhost:8080/"
        },
        "outputId": "10a012fa-f19b-4820-c0a9-8bf500a49f83"
      },
      "execution_count": 5,
      "outputs": [
        {
          "output_type": "stream",
          "name": "stdout",
          "text": [
            "Общая сумма зарплат в HR-отдел — 110000.0 рублей.\n",
            "Общая сумма зарплат в Логистика — 80000.0 рублей.\n"
          ]
        }
      ]
    }
  ]
}